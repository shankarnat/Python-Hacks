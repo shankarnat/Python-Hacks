{
 "cells": [
  {
   "cell_type": "code",
   "execution_count": 29,
   "metadata": {
    "collapsed": true
   },
   "outputs": [],
   "source": [
    "STORAGE_ACCOUNT_NAME = 'simulator'\n",
    "STORAGE_ACCOUNT_KEY = '23jBlTWiCVdA/KKDRe4/V8jKWCuWHNxU2uzjNmMFRXuL5tC8RT9cB7tFDl6dnNMxmcIQ/1i0VFUg8bwUIciOUQ=='\n",
    "SAS = ''\n",
    "IS_EMULATED = False"
   ]
  },
  {
   "cell_type": "code",
   "execution_count": 47,
   "metadata": {},
   "outputs": [],
   "source": [
    "import logging\n",
    "logging.basicConfig(format='%(asctime)s %(name)-20s %(levelname)-5s %(message)s', level=logging.INFO)\n",
    "# More advanced configuration allowing more control\n",
    "logger = logging.getLogger('azure.storage')\n",
    "handler = logging.StreamHandler()\n",
    "formatter = logging.Formatter('%(asctime)s %(name)-20s %(levelname)-5s %(message)s')\n",
    "handler.setFormatter(formatter)\n",
    "logger.addHandler(handler)\n",
    "logger.setLevel(logging.INFO)"
   ]
  },
  {
   "cell_type": "code",
   "execution_count": 48,
   "metadata": {},
   "outputs": [
    {
     "name": "stderr",
     "output_type": "stream",
     "text": [
      "2018-06-02 12:21:11,850 azure.storage.common.storageclient INFO  Client-Request-ID=561348d8-6631-11e8-a3b1-98e0d9a9e487 Outgoing request: Method=PUT, Path=/quickstartblobs, Query={'restype': 'container', 'timeout': None}, Headers={'x-ms-blob-public-access': None, 'x-ms-version': '2017-07-29', 'User-Agent': 'Azure-Storage/1.1.0-1.1.0 (Python CPython 3.6.2; Darwin 16.5.0)', 'x-ms-client-request-id': '561348d8-6631-11e8-a3b1-98e0d9a9e487', 'x-ms-date': 'Sat, 02 Jun 2018 06:51:11 GMT', 'Authorization': 'SharedKey simulator:PUvtRDqyt/P1E0H+SDTPIrh/CLu1RxLYq/QBvCKzE8o='}.\n",
      "2018-06-02 12:21:11,850 azure.storage.common.storageclient INFO  Client-Request-ID=561348d8-6631-11e8-a3b1-98e0d9a9e487 Outgoing request: Method=PUT, Path=/quickstartblobs, Query={'restype': 'container', 'timeout': None}, Headers={'x-ms-blob-public-access': None, 'x-ms-version': '2017-07-29', 'User-Agent': 'Azure-Storage/1.1.0-1.1.0 (Python CPython 3.6.2; Darwin 16.5.0)', 'x-ms-client-request-id': '561348d8-6631-11e8-a3b1-98e0d9a9e487', 'x-ms-date': 'Sat, 02 Jun 2018 06:51:11 GMT', 'Authorization': 'SharedKey simulator:PUvtRDqyt/P1E0H+SDTPIrh/CLu1RxLYq/QBvCKzE8o='}.\n",
      "2018-06-02 12:21:11,850 azure.storage.common.storageclient INFO  Client-Request-ID=561348d8-6631-11e8-a3b1-98e0d9a9e487 Outgoing request: Method=PUT, Path=/quickstartblobs, Query={'restype': 'container', 'timeout': None}, Headers={'x-ms-blob-public-access': None, 'x-ms-version': '2017-07-29', 'User-Agent': 'Azure-Storage/1.1.0-1.1.0 (Python CPython 3.6.2; Darwin 16.5.0)', 'x-ms-client-request-id': '561348d8-6631-11e8-a3b1-98e0d9a9e487', 'x-ms-date': 'Sat, 02 Jun 2018 06:51:11 GMT', 'Authorization': 'SharedKey simulator:PUvtRDqyt/P1E0H+SDTPIrh/CLu1RxLYq/QBvCKzE8o='}.\n",
      "2018-06-02 12:21:11,850 azure.storage.common.storageclient INFO  Client-Request-ID=561348d8-6631-11e8-a3b1-98e0d9a9e487 Outgoing request: Method=PUT, Path=/quickstartblobs, Query={'restype': 'container', 'timeout': None}, Headers={'x-ms-blob-public-access': None, 'x-ms-version': '2017-07-29', 'User-Agent': 'Azure-Storage/1.1.0-1.1.0 (Python CPython 3.6.2; Darwin 16.5.0)', 'x-ms-client-request-id': '561348d8-6631-11e8-a3b1-98e0d9a9e487', 'x-ms-date': 'Sat, 02 Jun 2018 06:51:11 GMT', 'Authorization': 'SharedKey simulator:PUvtRDqyt/P1E0H+SDTPIrh/CLu1RxLYq/QBvCKzE8o='}.\n",
      "2018-06-02 12:21:11,850 azure.storage.common.storageclient INFO  Client-Request-ID=561348d8-6631-11e8-a3b1-98e0d9a9e487 Outgoing request: Method=PUT, Path=/quickstartblobs, Query={'restype': 'container', 'timeout': None}, Headers={'x-ms-blob-public-access': None, 'x-ms-version': '2017-07-29', 'User-Agent': 'Azure-Storage/1.1.0-1.1.0 (Python CPython 3.6.2; Darwin 16.5.0)', 'x-ms-client-request-id': '561348d8-6631-11e8-a3b1-98e0d9a9e487', 'x-ms-date': 'Sat, 02 Jun 2018 06:51:11 GMT', 'Authorization': 'SharedKey simulator:PUvtRDqyt/P1E0H+SDTPIrh/CLu1RxLYq/QBvCKzE8o='}.\n",
      "2018-06-02 12:21:11,850 azure.storage.common.storageclient INFO  Client-Request-ID=561348d8-6631-11e8-a3b1-98e0d9a9e487 Outgoing request: Method=PUT, Path=/quickstartblobs, Query={'restype': 'container', 'timeout': None}, Headers={'x-ms-blob-public-access': None, 'x-ms-version': '2017-07-29', 'User-Agent': 'Azure-Storage/1.1.0-1.1.0 (Python CPython 3.6.2; Darwin 16.5.0)', 'x-ms-client-request-id': '561348d8-6631-11e8-a3b1-98e0d9a9e487', 'x-ms-date': 'Sat, 02 Jun 2018 06:51:11 GMT', 'Authorization': 'SharedKey simulator:PUvtRDqyt/P1E0H+SDTPIrh/CLu1RxLYq/QBvCKzE8o='}.\n",
      "2018-06-02 12:21:13,326 azure.storage.common.storageclient INFO  Client-Request-ID=561348d8-6631-11e8-a3b1-98e0d9a9e487 Receiving Response: Server-Timestamp=Sat, 02 Jun 2018 06:51:12 GMT, Server-Request-ID=c50a48d9-a01e-00ee-313e-fa3051000000, HTTP Status Code=201, Message=Created, Headers={'x-ms-blob-public-access': None, 'x-ms-version': '2017-07-29', 'User-Agent': 'Azure-Storage/1.1.0-1.1.0 (Python CPython 3.6.2; Darwin 16.5.0)', 'x-ms-client-request-id': '561348d8-6631-11e8-a3b1-98e0d9a9e487', 'x-ms-date': 'Sat, 02 Jun 2018 06:51:11 GMT', 'Authorization': 'SharedKey simulator:PUvtRDqyt/P1E0H+SDTPIrh/CLu1RxLYq/QBvCKzE8o='}.\n",
      "2018-06-02 12:21:13,326 azure.storage.common.storageclient INFO  Client-Request-ID=561348d8-6631-11e8-a3b1-98e0d9a9e487 Receiving Response: Server-Timestamp=Sat, 02 Jun 2018 06:51:12 GMT, Server-Request-ID=c50a48d9-a01e-00ee-313e-fa3051000000, HTTP Status Code=201, Message=Created, Headers={'x-ms-blob-public-access': None, 'x-ms-version': '2017-07-29', 'User-Agent': 'Azure-Storage/1.1.0-1.1.0 (Python CPython 3.6.2; Darwin 16.5.0)', 'x-ms-client-request-id': '561348d8-6631-11e8-a3b1-98e0d9a9e487', 'x-ms-date': 'Sat, 02 Jun 2018 06:51:11 GMT', 'Authorization': 'SharedKey simulator:PUvtRDqyt/P1E0H+SDTPIrh/CLu1RxLYq/QBvCKzE8o='}.\n",
      "2018-06-02 12:21:13,326 azure.storage.common.storageclient INFO  Client-Request-ID=561348d8-6631-11e8-a3b1-98e0d9a9e487 Receiving Response: Server-Timestamp=Sat, 02 Jun 2018 06:51:12 GMT, Server-Request-ID=c50a48d9-a01e-00ee-313e-fa3051000000, HTTP Status Code=201, Message=Created, Headers={'x-ms-blob-public-access': None, 'x-ms-version': '2017-07-29', 'User-Agent': 'Azure-Storage/1.1.0-1.1.0 (Python CPython 3.6.2; Darwin 16.5.0)', 'x-ms-client-request-id': '561348d8-6631-11e8-a3b1-98e0d9a9e487', 'x-ms-date': 'Sat, 02 Jun 2018 06:51:11 GMT', 'Authorization': 'SharedKey simulator:PUvtRDqyt/P1E0H+SDTPIrh/CLu1RxLYq/QBvCKzE8o='}.\n",
      "2018-06-02 12:21:13,326 azure.storage.common.storageclient INFO  Client-Request-ID=561348d8-6631-11e8-a3b1-98e0d9a9e487 Receiving Response: Server-Timestamp=Sat, 02 Jun 2018 06:51:12 GMT, Server-Request-ID=c50a48d9-a01e-00ee-313e-fa3051000000, HTTP Status Code=201, Message=Created, Headers={'x-ms-blob-public-access': None, 'x-ms-version': '2017-07-29', 'User-Agent': 'Azure-Storage/1.1.0-1.1.0 (Python CPython 3.6.2; Darwin 16.5.0)', 'x-ms-client-request-id': '561348d8-6631-11e8-a3b1-98e0d9a9e487', 'x-ms-date': 'Sat, 02 Jun 2018 06:51:11 GMT', 'Authorization': 'SharedKey simulator:PUvtRDqyt/P1E0H+SDTPIrh/CLu1RxLYq/QBvCKzE8o='}.\n",
      "2018-06-02 12:21:13,326 azure.storage.common.storageclient INFO  Client-Request-ID=561348d8-6631-11e8-a3b1-98e0d9a9e487 Receiving Response: Server-Timestamp=Sat, 02 Jun 2018 06:51:12 GMT, Server-Request-ID=c50a48d9-a01e-00ee-313e-fa3051000000, HTTP Status Code=201, Message=Created, Headers={'x-ms-blob-public-access': None, 'x-ms-version': '2017-07-29', 'User-Agent': 'Azure-Storage/1.1.0-1.1.0 (Python CPython 3.6.2; Darwin 16.5.0)', 'x-ms-client-request-id': '561348d8-6631-11e8-a3b1-98e0d9a9e487', 'x-ms-date': 'Sat, 02 Jun 2018 06:51:11 GMT', 'Authorization': 'SharedKey simulator:PUvtRDqyt/P1E0H+SDTPIrh/CLu1RxLYq/QBvCKzE8o='}.\n",
      "2018-06-02 12:21:13,326 azure.storage.common.storageclient INFO  Client-Request-ID=561348d8-6631-11e8-a3b1-98e0d9a9e487 Receiving Response: Server-Timestamp=Sat, 02 Jun 2018 06:51:12 GMT, Server-Request-ID=c50a48d9-a01e-00ee-313e-fa3051000000, HTTP Status Code=201, Message=Created, Headers={'x-ms-blob-public-access': None, 'x-ms-version': '2017-07-29', 'User-Agent': 'Azure-Storage/1.1.0-1.1.0 (Python CPython 3.6.2; Darwin 16.5.0)', 'x-ms-client-request-id': '561348d8-6631-11e8-a3b1-98e0d9a9e487', 'x-ms-date': 'Sat, 02 Jun 2018 06:51:11 GMT', 'Authorization': 'SharedKey simulator:PUvtRDqyt/P1E0H+SDTPIrh/CLu1RxLYq/QBvCKzE8o='}.\n",
      "2018-06-02 12:21:13,366 azure.storage.common.storageclient INFO  Client-Request-ID=56fd2ecc-6631-11e8-bf34-98e0d9a9e487 Outgoing request: Method=PUT, Path=/quickstartblobs, Query={'restype': 'container', 'comp': 'acl', 'timeout': None}, Headers={'x-ms-blob-public-access': 'container', 'If-Modified-Since': None, 'If-Unmodified-Since': None, 'x-ms-lease-id': None, 'x-ms-version': '2017-07-29', 'User-Agent': 'Azure-Storage/1.1.0-1.1.0 (Python CPython 3.6.2; Darwin 16.5.0)', 'x-ms-client-request-id': '56fd2ecc-6631-11e8-bf34-98e0d9a9e487', 'x-ms-date': 'Sat, 02 Jun 2018 06:51:13 GMT', 'Authorization': 'SharedKey simulator:BdTNRf4cz/HpyioKLgA8GPPOY4NzvEgP3OzLfB8gkgM='}.\n",
      "2018-06-02 12:21:13,366 azure.storage.common.storageclient INFO  Client-Request-ID=56fd2ecc-6631-11e8-bf34-98e0d9a9e487 Outgoing request: Method=PUT, Path=/quickstartblobs, Query={'restype': 'container', 'comp': 'acl', 'timeout': None}, Headers={'x-ms-blob-public-access': 'container', 'If-Modified-Since': None, 'If-Unmodified-Since': None, 'x-ms-lease-id': None, 'x-ms-version': '2017-07-29', 'User-Agent': 'Azure-Storage/1.1.0-1.1.0 (Python CPython 3.6.2; Darwin 16.5.0)', 'x-ms-client-request-id': '56fd2ecc-6631-11e8-bf34-98e0d9a9e487', 'x-ms-date': 'Sat, 02 Jun 2018 06:51:13 GMT', 'Authorization': 'SharedKey simulator:BdTNRf4cz/HpyioKLgA8GPPOY4NzvEgP3OzLfB8gkgM='}.\n"
     ]
    },
    {
     "name": "stderr",
     "output_type": "stream",
     "text": [
      "2018-06-02 12:21:13,366 azure.storage.common.storageclient INFO  Client-Request-ID=56fd2ecc-6631-11e8-bf34-98e0d9a9e487 Outgoing request: Method=PUT, Path=/quickstartblobs, Query={'restype': 'container', 'comp': 'acl', 'timeout': None}, Headers={'x-ms-blob-public-access': 'container', 'If-Modified-Since': None, 'If-Unmodified-Since': None, 'x-ms-lease-id': None, 'x-ms-version': '2017-07-29', 'User-Agent': 'Azure-Storage/1.1.0-1.1.0 (Python CPython 3.6.2; Darwin 16.5.0)', 'x-ms-client-request-id': '56fd2ecc-6631-11e8-bf34-98e0d9a9e487', 'x-ms-date': 'Sat, 02 Jun 2018 06:51:13 GMT', 'Authorization': 'SharedKey simulator:BdTNRf4cz/HpyioKLgA8GPPOY4NzvEgP3OzLfB8gkgM='}.\n",
      "2018-06-02 12:21:13,366 azure.storage.common.storageclient INFO  Client-Request-ID=56fd2ecc-6631-11e8-bf34-98e0d9a9e487 Outgoing request: Method=PUT, Path=/quickstartblobs, Query={'restype': 'container', 'comp': 'acl', 'timeout': None}, Headers={'x-ms-blob-public-access': 'container', 'If-Modified-Since': None, 'If-Unmodified-Since': None, 'x-ms-lease-id': None, 'x-ms-version': '2017-07-29', 'User-Agent': 'Azure-Storage/1.1.0-1.1.0 (Python CPython 3.6.2; Darwin 16.5.0)', 'x-ms-client-request-id': '56fd2ecc-6631-11e8-bf34-98e0d9a9e487', 'x-ms-date': 'Sat, 02 Jun 2018 06:51:13 GMT', 'Authorization': 'SharedKey simulator:BdTNRf4cz/HpyioKLgA8GPPOY4NzvEgP3OzLfB8gkgM='}.\n",
      "2018-06-02 12:21:13,366 azure.storage.common.storageclient INFO  Client-Request-ID=56fd2ecc-6631-11e8-bf34-98e0d9a9e487 Outgoing request: Method=PUT, Path=/quickstartblobs, Query={'restype': 'container', 'comp': 'acl', 'timeout': None}, Headers={'x-ms-blob-public-access': 'container', 'If-Modified-Since': None, 'If-Unmodified-Since': None, 'x-ms-lease-id': None, 'x-ms-version': '2017-07-29', 'User-Agent': 'Azure-Storage/1.1.0-1.1.0 (Python CPython 3.6.2; Darwin 16.5.0)', 'x-ms-client-request-id': '56fd2ecc-6631-11e8-bf34-98e0d9a9e487', 'x-ms-date': 'Sat, 02 Jun 2018 06:51:13 GMT', 'Authorization': 'SharedKey simulator:BdTNRf4cz/HpyioKLgA8GPPOY4NzvEgP3OzLfB8gkgM='}.\n",
      "2018-06-02 12:21:13,366 azure.storage.common.storageclient INFO  Client-Request-ID=56fd2ecc-6631-11e8-bf34-98e0d9a9e487 Outgoing request: Method=PUT, Path=/quickstartblobs, Query={'restype': 'container', 'comp': 'acl', 'timeout': None}, Headers={'x-ms-blob-public-access': 'container', 'If-Modified-Since': None, 'If-Unmodified-Since': None, 'x-ms-lease-id': None, 'x-ms-version': '2017-07-29', 'User-Agent': 'Azure-Storage/1.1.0-1.1.0 (Python CPython 3.6.2; Darwin 16.5.0)', 'x-ms-client-request-id': '56fd2ecc-6631-11e8-bf34-98e0d9a9e487', 'x-ms-date': 'Sat, 02 Jun 2018 06:51:13 GMT', 'Authorization': 'SharedKey simulator:BdTNRf4cz/HpyioKLgA8GPPOY4NzvEgP3OzLfB8gkgM='}.\n",
      "2018-06-02 12:21:13,731 azure.storage.common.storageclient INFO  Client-Request-ID=56fd2ecc-6631-11e8-bf34-98e0d9a9e487 Receiving Response: Server-Timestamp=Sat, 02 Jun 2018 06:51:12 GMT, Server-Request-ID=c50a4928-a01e-00ee-643e-fa3051000000, HTTP Status Code=200, Message=OK, Headers={'x-ms-blob-public-access': 'container', 'If-Modified-Since': None, 'If-Unmodified-Since': None, 'x-ms-lease-id': None, 'x-ms-version': '2017-07-29', 'User-Agent': 'Azure-Storage/1.1.0-1.1.0 (Python CPython 3.6.2; Darwin 16.5.0)', 'x-ms-client-request-id': '56fd2ecc-6631-11e8-bf34-98e0d9a9e487', 'x-ms-date': 'Sat, 02 Jun 2018 06:51:13 GMT', 'Authorization': 'SharedKey simulator:BdTNRf4cz/HpyioKLgA8GPPOY4NzvEgP3OzLfB8gkgM='}.\n",
      "2018-06-02 12:21:13,731 azure.storage.common.storageclient INFO  Client-Request-ID=56fd2ecc-6631-11e8-bf34-98e0d9a9e487 Receiving Response: Server-Timestamp=Sat, 02 Jun 2018 06:51:12 GMT, Server-Request-ID=c50a4928-a01e-00ee-643e-fa3051000000, HTTP Status Code=200, Message=OK, Headers={'x-ms-blob-public-access': 'container', 'If-Modified-Since': None, 'If-Unmodified-Since': None, 'x-ms-lease-id': None, 'x-ms-version': '2017-07-29', 'User-Agent': 'Azure-Storage/1.1.0-1.1.0 (Python CPython 3.6.2; Darwin 16.5.0)', 'x-ms-client-request-id': '56fd2ecc-6631-11e8-bf34-98e0d9a9e487', 'x-ms-date': 'Sat, 02 Jun 2018 06:51:13 GMT', 'Authorization': 'SharedKey simulator:BdTNRf4cz/HpyioKLgA8GPPOY4NzvEgP3OzLfB8gkgM='}.\n",
      "2018-06-02 12:21:13,731 azure.storage.common.storageclient INFO  Client-Request-ID=56fd2ecc-6631-11e8-bf34-98e0d9a9e487 Receiving Response: Server-Timestamp=Sat, 02 Jun 2018 06:51:12 GMT, Server-Request-ID=c50a4928-a01e-00ee-643e-fa3051000000, HTTP Status Code=200, Message=OK, Headers={'x-ms-blob-public-access': 'container', 'If-Modified-Since': None, 'If-Unmodified-Since': None, 'x-ms-lease-id': None, 'x-ms-version': '2017-07-29', 'User-Agent': 'Azure-Storage/1.1.0-1.1.0 (Python CPython 3.6.2; Darwin 16.5.0)', 'x-ms-client-request-id': '56fd2ecc-6631-11e8-bf34-98e0d9a9e487', 'x-ms-date': 'Sat, 02 Jun 2018 06:51:13 GMT', 'Authorization': 'SharedKey simulator:BdTNRf4cz/HpyioKLgA8GPPOY4NzvEgP3OzLfB8gkgM='}.\n",
      "2018-06-02 12:21:13,731 azure.storage.common.storageclient INFO  Client-Request-ID=56fd2ecc-6631-11e8-bf34-98e0d9a9e487 Receiving Response: Server-Timestamp=Sat, 02 Jun 2018 06:51:12 GMT, Server-Request-ID=c50a4928-a01e-00ee-643e-fa3051000000, HTTP Status Code=200, Message=OK, Headers={'x-ms-blob-public-access': 'container', 'If-Modified-Since': None, 'If-Unmodified-Since': None, 'x-ms-lease-id': None, 'x-ms-version': '2017-07-29', 'User-Agent': 'Azure-Storage/1.1.0-1.1.0 (Python CPython 3.6.2; Darwin 16.5.0)', 'x-ms-client-request-id': '56fd2ecc-6631-11e8-bf34-98e0d9a9e487', 'x-ms-date': 'Sat, 02 Jun 2018 06:51:13 GMT', 'Authorization': 'SharedKey simulator:BdTNRf4cz/HpyioKLgA8GPPOY4NzvEgP3OzLfB8gkgM='}.\n",
      "2018-06-02 12:21:13,731 azure.storage.common.storageclient INFO  Client-Request-ID=56fd2ecc-6631-11e8-bf34-98e0d9a9e487 Receiving Response: Server-Timestamp=Sat, 02 Jun 2018 06:51:12 GMT, Server-Request-ID=c50a4928-a01e-00ee-643e-fa3051000000, HTTP Status Code=200, Message=OK, Headers={'x-ms-blob-public-access': 'container', 'If-Modified-Since': None, 'If-Unmodified-Since': None, 'x-ms-lease-id': None, 'x-ms-version': '2017-07-29', 'User-Agent': 'Azure-Storage/1.1.0-1.1.0 (Python CPython 3.6.2; Darwin 16.5.0)', 'x-ms-client-request-id': '56fd2ecc-6631-11e8-bf34-98e0d9a9e487', 'x-ms-date': 'Sat, 02 Jun 2018 06:51:13 GMT', 'Authorization': 'SharedKey simulator:BdTNRf4cz/HpyioKLgA8GPPOY4NzvEgP3OzLfB8gkgM='}.\n",
      "2018-06-02 12:21:13,731 azure.storage.common.storageclient INFO  Client-Request-ID=56fd2ecc-6631-11e8-bf34-98e0d9a9e487 Receiving Response: Server-Timestamp=Sat, 02 Jun 2018 06:51:12 GMT, Server-Request-ID=c50a4928-a01e-00ee-643e-fa3051000000, HTTP Status Code=200, Message=OK, Headers={'x-ms-blob-public-access': 'container', 'If-Modified-Since': None, 'If-Unmodified-Since': None, 'x-ms-lease-id': None, 'x-ms-version': '2017-07-29', 'User-Agent': 'Azure-Storage/1.1.0-1.1.0 (Python CPython 3.6.2; Darwin 16.5.0)', 'x-ms-client-request-id': '56fd2ecc-6631-11e8-bf34-98e0d9a9e487', 'x-ms-date': 'Sat, 02 Jun 2018 06:51:13 GMT', 'Authorization': 'SharedKey simulator:BdTNRf4cz/HpyioKLgA8GPPOY4NzvEgP3OzLfB8gkgM='}.\n",
      "2018-06-02 12:21:13,756 azure.storage.common.storageclient INFO  Client-Request-ID=57389d1a-6631-11e8-ad34-98e0d9a9e487 Outgoing request: Method=PUT, Path=/quickstartblobs/QuickStart_719c80ab-e721-49e6-9573-106b5404bfdd.txt, Query={'timeout': None}, Headers={'x-ms-blob-type': 'BlockBlob', 'x-ms-lease-id': None, 'If-Modified-Since': None, 'If-Unmodified-Since': None, 'If-Match': None, 'If-None-Match': None, 'Content-Length': '13', 'x-ms-version': '2017-07-29', 'User-Agent': 'Azure-Storage/1.1.0-1.1.0 (Python CPython 3.6.2; Darwin 16.5.0)', 'x-ms-client-request-id': '57389d1a-6631-11e8-ad34-98e0d9a9e487', 'x-ms-date': 'Sat, 02 Jun 2018 06:51:13 GMT', 'Authorization': 'SharedKey simulator:XXWxvn616CZkuv3MDyAjOotjynEgR4ytVfSz5ynhfwg='}.\n",
      "2018-06-02 12:21:13,756 azure.storage.common.storageclient INFO  Client-Request-ID=57389d1a-6631-11e8-ad34-98e0d9a9e487 Outgoing request: Method=PUT, Path=/quickstartblobs/QuickStart_719c80ab-e721-49e6-9573-106b5404bfdd.txt, Query={'timeout': None}, Headers={'x-ms-blob-type': 'BlockBlob', 'x-ms-lease-id': None, 'If-Modified-Since': None, 'If-Unmodified-Since': None, 'If-Match': None, 'If-None-Match': None, 'Content-Length': '13', 'x-ms-version': '2017-07-29', 'User-Agent': 'Azure-Storage/1.1.0-1.1.0 (Python CPython 3.6.2; Darwin 16.5.0)', 'x-ms-client-request-id': '57389d1a-6631-11e8-ad34-98e0d9a9e487', 'x-ms-date': 'Sat, 02 Jun 2018 06:51:13 GMT', 'Authorization': 'SharedKey simulator:XXWxvn616CZkuv3MDyAjOotjynEgR4ytVfSz5ynhfwg='}.\n"
     ]
    },
    {
     "name": "stderr",
     "output_type": "stream",
     "text": [
      "2018-06-02 12:21:13,756 azure.storage.common.storageclient INFO  Client-Request-ID=57389d1a-6631-11e8-ad34-98e0d9a9e487 Outgoing request: Method=PUT, Path=/quickstartblobs/QuickStart_719c80ab-e721-49e6-9573-106b5404bfdd.txt, Query={'timeout': None}, Headers={'x-ms-blob-type': 'BlockBlob', 'x-ms-lease-id': None, 'If-Modified-Since': None, 'If-Unmodified-Since': None, 'If-Match': None, 'If-None-Match': None, 'Content-Length': '13', 'x-ms-version': '2017-07-29', 'User-Agent': 'Azure-Storage/1.1.0-1.1.0 (Python CPython 3.6.2; Darwin 16.5.0)', 'x-ms-client-request-id': '57389d1a-6631-11e8-ad34-98e0d9a9e487', 'x-ms-date': 'Sat, 02 Jun 2018 06:51:13 GMT', 'Authorization': 'SharedKey simulator:XXWxvn616CZkuv3MDyAjOotjynEgR4ytVfSz5ynhfwg='}.\n",
      "2018-06-02 12:21:13,756 azure.storage.common.storageclient INFO  Client-Request-ID=57389d1a-6631-11e8-ad34-98e0d9a9e487 Outgoing request: Method=PUT, Path=/quickstartblobs/QuickStart_719c80ab-e721-49e6-9573-106b5404bfdd.txt, Query={'timeout': None}, Headers={'x-ms-blob-type': 'BlockBlob', 'x-ms-lease-id': None, 'If-Modified-Since': None, 'If-Unmodified-Since': None, 'If-Match': None, 'If-None-Match': None, 'Content-Length': '13', 'x-ms-version': '2017-07-29', 'User-Agent': 'Azure-Storage/1.1.0-1.1.0 (Python CPython 3.6.2; Darwin 16.5.0)', 'x-ms-client-request-id': '57389d1a-6631-11e8-ad34-98e0d9a9e487', 'x-ms-date': 'Sat, 02 Jun 2018 06:51:13 GMT', 'Authorization': 'SharedKey simulator:XXWxvn616CZkuv3MDyAjOotjynEgR4ytVfSz5ynhfwg='}.\n",
      "2018-06-02 12:21:13,756 azure.storage.common.storageclient INFO  Client-Request-ID=57389d1a-6631-11e8-ad34-98e0d9a9e487 Outgoing request: Method=PUT, Path=/quickstartblobs/QuickStart_719c80ab-e721-49e6-9573-106b5404bfdd.txt, Query={'timeout': None}, Headers={'x-ms-blob-type': 'BlockBlob', 'x-ms-lease-id': None, 'If-Modified-Since': None, 'If-Unmodified-Since': None, 'If-Match': None, 'If-None-Match': None, 'Content-Length': '13', 'x-ms-version': '2017-07-29', 'User-Agent': 'Azure-Storage/1.1.0-1.1.0 (Python CPython 3.6.2; Darwin 16.5.0)', 'x-ms-client-request-id': '57389d1a-6631-11e8-ad34-98e0d9a9e487', 'x-ms-date': 'Sat, 02 Jun 2018 06:51:13 GMT', 'Authorization': 'SharedKey simulator:XXWxvn616CZkuv3MDyAjOotjynEgR4ytVfSz5ynhfwg='}.\n",
      "2018-06-02 12:21:13,756 azure.storage.common.storageclient INFO  Client-Request-ID=57389d1a-6631-11e8-ad34-98e0d9a9e487 Outgoing request: Method=PUT, Path=/quickstartblobs/QuickStart_719c80ab-e721-49e6-9573-106b5404bfdd.txt, Query={'timeout': None}, Headers={'x-ms-blob-type': 'BlockBlob', 'x-ms-lease-id': None, 'If-Modified-Since': None, 'If-Unmodified-Since': None, 'If-Match': None, 'If-None-Match': None, 'Content-Length': '13', 'x-ms-version': '2017-07-29', 'User-Agent': 'Azure-Storage/1.1.0-1.1.0 (Python CPython 3.6.2; Darwin 16.5.0)', 'x-ms-client-request-id': '57389d1a-6631-11e8-ad34-98e0d9a9e487', 'x-ms-date': 'Sat, 02 Jun 2018 06:51:13 GMT', 'Authorization': 'SharedKey simulator:XXWxvn616CZkuv3MDyAjOotjynEgR4ytVfSz5ynhfwg='}.\n"
     ]
    },
    {
     "name": "stdout",
     "output_type": "stream",
     "text": [
      "Temp file = /Users/shankarnatarajan/PycharmProjects/Simulator/QuickStart_719c80ab-e721-49e6-9573-106b5404bfdd.txt\n",
      "\n",
      "Uploading to Blob storage as blobQuickStart_719c80ab-e721-49e6-9573-106b5404bfdd.txt\n"
     ]
    },
    {
     "name": "stderr",
     "output_type": "stream",
     "text": [
      "2018-06-02 12:21:14,138 azure.storage.common.storageclient INFO  Client-Request-ID=57389d1a-6631-11e8-ad34-98e0d9a9e487 Receiving Response: Server-Timestamp=Sat, 02 Jun 2018 06:51:13 GMT, Server-Request-ID=c50a496c-a01e-00ee-193e-fa3051000000, HTTP Status Code=201, Message=Created, Headers={'x-ms-blob-type': 'BlockBlob', 'x-ms-lease-id': None, 'If-Modified-Since': None, 'If-Unmodified-Since': None, 'If-Match': None, 'If-None-Match': None, 'Content-Length': '13', 'x-ms-version': '2017-07-29', 'User-Agent': 'Azure-Storage/1.1.0-1.1.0 (Python CPython 3.6.2; Darwin 16.5.0)', 'x-ms-client-request-id': '57389d1a-6631-11e8-ad34-98e0d9a9e487', 'x-ms-date': 'Sat, 02 Jun 2018 06:51:13 GMT', 'Authorization': 'SharedKey simulator:XXWxvn616CZkuv3MDyAjOotjynEgR4ytVfSz5ynhfwg='}.\n",
      "2018-06-02 12:21:14,138 azure.storage.common.storageclient INFO  Client-Request-ID=57389d1a-6631-11e8-ad34-98e0d9a9e487 Receiving Response: Server-Timestamp=Sat, 02 Jun 2018 06:51:13 GMT, Server-Request-ID=c50a496c-a01e-00ee-193e-fa3051000000, HTTP Status Code=201, Message=Created, Headers={'x-ms-blob-type': 'BlockBlob', 'x-ms-lease-id': None, 'If-Modified-Since': None, 'If-Unmodified-Since': None, 'If-Match': None, 'If-None-Match': None, 'Content-Length': '13', 'x-ms-version': '2017-07-29', 'User-Agent': 'Azure-Storage/1.1.0-1.1.0 (Python CPython 3.6.2; Darwin 16.5.0)', 'x-ms-client-request-id': '57389d1a-6631-11e8-ad34-98e0d9a9e487', 'x-ms-date': 'Sat, 02 Jun 2018 06:51:13 GMT', 'Authorization': 'SharedKey simulator:XXWxvn616CZkuv3MDyAjOotjynEgR4ytVfSz5ynhfwg='}.\n",
      "2018-06-02 12:21:14,138 azure.storage.common.storageclient INFO  Client-Request-ID=57389d1a-6631-11e8-ad34-98e0d9a9e487 Receiving Response: Server-Timestamp=Sat, 02 Jun 2018 06:51:13 GMT, Server-Request-ID=c50a496c-a01e-00ee-193e-fa3051000000, HTTP Status Code=201, Message=Created, Headers={'x-ms-blob-type': 'BlockBlob', 'x-ms-lease-id': None, 'If-Modified-Since': None, 'If-Unmodified-Since': None, 'If-Match': None, 'If-None-Match': None, 'Content-Length': '13', 'x-ms-version': '2017-07-29', 'User-Agent': 'Azure-Storage/1.1.0-1.1.0 (Python CPython 3.6.2; Darwin 16.5.0)', 'x-ms-client-request-id': '57389d1a-6631-11e8-ad34-98e0d9a9e487', 'x-ms-date': 'Sat, 02 Jun 2018 06:51:13 GMT', 'Authorization': 'SharedKey simulator:XXWxvn616CZkuv3MDyAjOotjynEgR4ytVfSz5ynhfwg='}.\n",
      "2018-06-02 12:21:14,138 azure.storage.common.storageclient INFO  Client-Request-ID=57389d1a-6631-11e8-ad34-98e0d9a9e487 Receiving Response: Server-Timestamp=Sat, 02 Jun 2018 06:51:13 GMT, Server-Request-ID=c50a496c-a01e-00ee-193e-fa3051000000, HTTP Status Code=201, Message=Created, Headers={'x-ms-blob-type': 'BlockBlob', 'x-ms-lease-id': None, 'If-Modified-Since': None, 'If-Unmodified-Since': None, 'If-Match': None, 'If-None-Match': None, 'Content-Length': '13', 'x-ms-version': '2017-07-29', 'User-Agent': 'Azure-Storage/1.1.0-1.1.0 (Python CPython 3.6.2; Darwin 16.5.0)', 'x-ms-client-request-id': '57389d1a-6631-11e8-ad34-98e0d9a9e487', 'x-ms-date': 'Sat, 02 Jun 2018 06:51:13 GMT', 'Authorization': 'SharedKey simulator:XXWxvn616CZkuv3MDyAjOotjynEgR4ytVfSz5ynhfwg='}.\n",
      "2018-06-02 12:21:14,138 azure.storage.common.storageclient INFO  Client-Request-ID=57389d1a-6631-11e8-ad34-98e0d9a9e487 Receiving Response: Server-Timestamp=Sat, 02 Jun 2018 06:51:13 GMT, Server-Request-ID=c50a496c-a01e-00ee-193e-fa3051000000, HTTP Status Code=201, Message=Created, Headers={'x-ms-blob-type': 'BlockBlob', 'x-ms-lease-id': None, 'If-Modified-Since': None, 'If-Unmodified-Since': None, 'If-Match': None, 'If-None-Match': None, 'Content-Length': '13', 'x-ms-version': '2017-07-29', 'User-Agent': 'Azure-Storage/1.1.0-1.1.0 (Python CPython 3.6.2; Darwin 16.5.0)', 'x-ms-client-request-id': '57389d1a-6631-11e8-ad34-98e0d9a9e487', 'x-ms-date': 'Sat, 02 Jun 2018 06:51:13 GMT', 'Authorization': 'SharedKey simulator:XXWxvn616CZkuv3MDyAjOotjynEgR4ytVfSz5ynhfwg='}.\n",
      "2018-06-02 12:21:14,138 azure.storage.common.storageclient INFO  Client-Request-ID=57389d1a-6631-11e8-ad34-98e0d9a9e487 Receiving Response: Server-Timestamp=Sat, 02 Jun 2018 06:51:13 GMT, Server-Request-ID=c50a496c-a01e-00ee-193e-fa3051000000, HTTP Status Code=201, Message=Created, Headers={'x-ms-blob-type': 'BlockBlob', 'x-ms-lease-id': None, 'If-Modified-Since': None, 'If-Unmodified-Since': None, 'If-Match': None, 'If-None-Match': None, 'Content-Length': '13', 'x-ms-version': '2017-07-29', 'User-Agent': 'Azure-Storage/1.1.0-1.1.0 (Python CPython 3.6.2; Darwin 16.5.0)', 'x-ms-client-request-id': '57389d1a-6631-11e8-ad34-98e0d9a9e487', 'x-ms-date': 'Sat, 02 Jun 2018 06:51:13 GMT', 'Authorization': 'SharedKey simulator:XXWxvn616CZkuv3MDyAjOotjynEgR4ytVfSz5ynhfwg='}.\n",
      "2018-06-02 12:21:14,158 azure.storage.common.storageclient INFO  Client-Request-ID=577615fa-6631-11e8-b9ce-98e0d9a9e487 Outgoing request: Method=GET, Path=/quickstartblobs, Query={'restype': 'container', 'comp': 'list', 'prefix': None, 'delimiter': None, 'marker': None, 'maxresults': None, 'include': None, 'timeout': None}, Headers={'x-ms-version': '2017-07-29', 'User-Agent': 'Azure-Storage/1.1.0-1.1.0 (Python CPython 3.6.2; Darwin 16.5.0)', 'x-ms-client-request-id': '577615fa-6631-11e8-b9ce-98e0d9a9e487', 'x-ms-date': 'Sat, 02 Jun 2018 06:51:14 GMT', 'Authorization': 'SharedKey simulator:HDOIYzAr7CJFplC9fHX4qYKGZIfl5lmZ5xbZGbVgZm4='}.\n",
      "2018-06-02 12:21:14,158 azure.storage.common.storageclient INFO  Client-Request-ID=577615fa-6631-11e8-b9ce-98e0d9a9e487 Outgoing request: Method=GET, Path=/quickstartblobs, Query={'restype': 'container', 'comp': 'list', 'prefix': None, 'delimiter': None, 'marker': None, 'maxresults': None, 'include': None, 'timeout': None}, Headers={'x-ms-version': '2017-07-29', 'User-Agent': 'Azure-Storage/1.1.0-1.1.0 (Python CPython 3.6.2; Darwin 16.5.0)', 'x-ms-client-request-id': '577615fa-6631-11e8-b9ce-98e0d9a9e487', 'x-ms-date': 'Sat, 02 Jun 2018 06:51:14 GMT', 'Authorization': 'SharedKey simulator:HDOIYzAr7CJFplC9fHX4qYKGZIfl5lmZ5xbZGbVgZm4='}.\n",
      "2018-06-02 12:21:14,158 azure.storage.common.storageclient INFO  Client-Request-ID=577615fa-6631-11e8-b9ce-98e0d9a9e487 Outgoing request: Method=GET, Path=/quickstartblobs, Query={'restype': 'container', 'comp': 'list', 'prefix': None, 'delimiter': None, 'marker': None, 'maxresults': None, 'include': None, 'timeout': None}, Headers={'x-ms-version': '2017-07-29', 'User-Agent': 'Azure-Storage/1.1.0-1.1.0 (Python CPython 3.6.2; Darwin 16.5.0)', 'x-ms-client-request-id': '577615fa-6631-11e8-b9ce-98e0d9a9e487', 'x-ms-date': 'Sat, 02 Jun 2018 06:51:14 GMT', 'Authorization': 'SharedKey simulator:HDOIYzAr7CJFplC9fHX4qYKGZIfl5lmZ5xbZGbVgZm4='}.\n",
      "2018-06-02 12:21:14,158 azure.storage.common.storageclient INFO  Client-Request-ID=577615fa-6631-11e8-b9ce-98e0d9a9e487 Outgoing request: Method=GET, Path=/quickstartblobs, Query={'restype': 'container', 'comp': 'list', 'prefix': None, 'delimiter': None, 'marker': None, 'maxresults': None, 'include': None, 'timeout': None}, Headers={'x-ms-version': '2017-07-29', 'User-Agent': 'Azure-Storage/1.1.0-1.1.0 (Python CPython 3.6.2; Darwin 16.5.0)', 'x-ms-client-request-id': '577615fa-6631-11e8-b9ce-98e0d9a9e487', 'x-ms-date': 'Sat, 02 Jun 2018 06:51:14 GMT', 'Authorization': 'SharedKey simulator:HDOIYzAr7CJFplC9fHX4qYKGZIfl5lmZ5xbZGbVgZm4='}.\n",
      "2018-06-02 12:21:14,158 azure.storage.common.storageclient INFO  Client-Request-ID=577615fa-6631-11e8-b9ce-98e0d9a9e487 Outgoing request: Method=GET, Path=/quickstartblobs, Query={'restype': 'container', 'comp': 'list', 'prefix': None, 'delimiter': None, 'marker': None, 'maxresults': None, 'include': None, 'timeout': None}, Headers={'x-ms-version': '2017-07-29', 'User-Agent': 'Azure-Storage/1.1.0-1.1.0 (Python CPython 3.6.2; Darwin 16.5.0)', 'x-ms-client-request-id': '577615fa-6631-11e8-b9ce-98e0d9a9e487', 'x-ms-date': 'Sat, 02 Jun 2018 06:51:14 GMT', 'Authorization': 'SharedKey simulator:HDOIYzAr7CJFplC9fHX4qYKGZIfl5lmZ5xbZGbVgZm4='}.\n",
      "2018-06-02 12:21:14,158 azure.storage.common.storageclient INFO  Client-Request-ID=577615fa-6631-11e8-b9ce-98e0d9a9e487 Outgoing request: Method=GET, Path=/quickstartblobs, Query={'restype': 'container', 'comp': 'list', 'prefix': None, 'delimiter': None, 'marker': None, 'maxresults': None, 'include': None, 'timeout': None}, Headers={'x-ms-version': '2017-07-29', 'User-Agent': 'Azure-Storage/1.1.0-1.1.0 (Python CPython 3.6.2; Darwin 16.5.0)', 'x-ms-client-request-id': '577615fa-6631-11e8-b9ce-98e0d9a9e487', 'x-ms-date': 'Sat, 02 Jun 2018 06:51:14 GMT', 'Authorization': 'SharedKey simulator:HDOIYzAr7CJFplC9fHX4qYKGZIfl5lmZ5xbZGbVgZm4='}.\n"
     ]
    },
    {
     "name": "stdout",
     "output_type": "stream",
     "text": [
      "\n",
      "List blobs in the container\n"
     ]
    },
    {
     "name": "stderr",
     "output_type": "stream",
     "text": [
      "2018-06-02 12:21:14,451 azure.storage.common.storageclient INFO  Client-Request-ID=577615fa-6631-11e8-b9ce-98e0d9a9e487 Receiving Response: Server-Timestamp=Sat, 02 Jun 2018 06:51:13 GMT, Server-Request-ID=c50a49b3-a01e-00ee-4c3e-fa3051000000, HTTP Status Code=200, Message=OK, Headers={'x-ms-version': '2017-07-29', 'User-Agent': 'Azure-Storage/1.1.0-1.1.0 (Python CPython 3.6.2; Darwin 16.5.0)', 'x-ms-client-request-id': '577615fa-6631-11e8-b9ce-98e0d9a9e487', 'x-ms-date': 'Sat, 02 Jun 2018 06:51:14 GMT', 'Authorization': 'SharedKey simulator:HDOIYzAr7CJFplC9fHX4qYKGZIfl5lmZ5xbZGbVgZm4='}.\n",
      "2018-06-02 12:21:14,451 azure.storage.common.storageclient INFO  Client-Request-ID=577615fa-6631-11e8-b9ce-98e0d9a9e487 Receiving Response: Server-Timestamp=Sat, 02 Jun 2018 06:51:13 GMT, Server-Request-ID=c50a49b3-a01e-00ee-4c3e-fa3051000000, HTTP Status Code=200, Message=OK, Headers={'x-ms-version': '2017-07-29', 'User-Agent': 'Azure-Storage/1.1.0-1.1.0 (Python CPython 3.6.2; Darwin 16.5.0)', 'x-ms-client-request-id': '577615fa-6631-11e8-b9ce-98e0d9a9e487', 'x-ms-date': 'Sat, 02 Jun 2018 06:51:14 GMT', 'Authorization': 'SharedKey simulator:HDOIYzAr7CJFplC9fHX4qYKGZIfl5lmZ5xbZGbVgZm4='}.\n",
      "2018-06-02 12:21:14,451 azure.storage.common.storageclient INFO  Client-Request-ID=577615fa-6631-11e8-b9ce-98e0d9a9e487 Receiving Response: Server-Timestamp=Sat, 02 Jun 2018 06:51:13 GMT, Server-Request-ID=c50a49b3-a01e-00ee-4c3e-fa3051000000, HTTP Status Code=200, Message=OK, Headers={'x-ms-version': '2017-07-29', 'User-Agent': 'Azure-Storage/1.1.0-1.1.0 (Python CPython 3.6.2; Darwin 16.5.0)', 'x-ms-client-request-id': '577615fa-6631-11e8-b9ce-98e0d9a9e487', 'x-ms-date': 'Sat, 02 Jun 2018 06:51:14 GMT', 'Authorization': 'SharedKey simulator:HDOIYzAr7CJFplC9fHX4qYKGZIfl5lmZ5xbZGbVgZm4='}.\n",
      "2018-06-02 12:21:14,451 azure.storage.common.storageclient INFO  Client-Request-ID=577615fa-6631-11e8-b9ce-98e0d9a9e487 Receiving Response: Server-Timestamp=Sat, 02 Jun 2018 06:51:13 GMT, Server-Request-ID=c50a49b3-a01e-00ee-4c3e-fa3051000000, HTTP Status Code=200, Message=OK, Headers={'x-ms-version': '2017-07-29', 'User-Agent': 'Azure-Storage/1.1.0-1.1.0 (Python CPython 3.6.2; Darwin 16.5.0)', 'x-ms-client-request-id': '577615fa-6631-11e8-b9ce-98e0d9a9e487', 'x-ms-date': 'Sat, 02 Jun 2018 06:51:14 GMT', 'Authorization': 'SharedKey simulator:HDOIYzAr7CJFplC9fHX4qYKGZIfl5lmZ5xbZGbVgZm4='}.\n",
      "2018-06-02 12:21:14,451 azure.storage.common.storageclient INFO  Client-Request-ID=577615fa-6631-11e8-b9ce-98e0d9a9e487 Receiving Response: Server-Timestamp=Sat, 02 Jun 2018 06:51:13 GMT, Server-Request-ID=c50a49b3-a01e-00ee-4c3e-fa3051000000, HTTP Status Code=200, Message=OK, Headers={'x-ms-version': '2017-07-29', 'User-Agent': 'Azure-Storage/1.1.0-1.1.0 (Python CPython 3.6.2; Darwin 16.5.0)', 'x-ms-client-request-id': '577615fa-6631-11e8-b9ce-98e0d9a9e487', 'x-ms-date': 'Sat, 02 Jun 2018 06:51:14 GMT', 'Authorization': 'SharedKey simulator:HDOIYzAr7CJFplC9fHX4qYKGZIfl5lmZ5xbZGbVgZm4='}.\n",
      "2018-06-02 12:21:14,451 azure.storage.common.storageclient INFO  Client-Request-ID=577615fa-6631-11e8-b9ce-98e0d9a9e487 Receiving Response: Server-Timestamp=Sat, 02 Jun 2018 06:51:13 GMT, Server-Request-ID=c50a49b3-a01e-00ee-4c3e-fa3051000000, HTTP Status Code=200, Message=OK, Headers={'x-ms-version': '2017-07-29', 'User-Agent': 'Azure-Storage/1.1.0-1.1.0 (Python CPython 3.6.2; Darwin 16.5.0)', 'x-ms-client-request-id': '577615fa-6631-11e8-b9ce-98e0d9a9e487', 'x-ms-date': 'Sat, 02 Jun 2018 06:51:14 GMT', 'Authorization': 'SharedKey simulator:HDOIYzAr7CJFplC9fHX4qYKGZIfl5lmZ5xbZGbVgZm4='}.\n",
      "2018-06-02 12:21:14,476 azure.storage.common.storageclient INFO  Client-Request-ID=57a69e14-6631-11e8-955b-98e0d9a9e487 Outgoing request: Method=GET, Path=/quickstartblobs/QuickStart_719c80ab-e721-49e6-9573-106b5404bfdd.txt, Query={'snapshot': None, 'timeout': None}, Headers={'x-ms-lease-id': None, 'If-Modified-Since': None, 'If-Unmodified-Since': None, 'If-Match': None, 'If-None-Match': None, 'x-ms-range': 'bytes=0-33554431', 'x-ms-version': '2017-07-29', 'User-Agent': 'Azure-Storage/1.1.0-1.1.0 (Python CPython 3.6.2; Darwin 16.5.0)', 'x-ms-client-request-id': '57a69e14-6631-11e8-955b-98e0d9a9e487', 'x-ms-date': 'Sat, 02 Jun 2018 06:51:14 GMT', 'Authorization': 'SharedKey simulator:outL9YX5t9YV2hiVQdvnwZeESekQXvqSupjxtRoOV9s='}.\n",
      "2018-06-02 12:21:14,476 azure.storage.common.storageclient INFO  Client-Request-ID=57a69e14-6631-11e8-955b-98e0d9a9e487 Outgoing request: Method=GET, Path=/quickstartblobs/QuickStart_719c80ab-e721-49e6-9573-106b5404bfdd.txt, Query={'snapshot': None, 'timeout': None}, Headers={'x-ms-lease-id': None, 'If-Modified-Since': None, 'If-Unmodified-Since': None, 'If-Match': None, 'If-None-Match': None, 'x-ms-range': 'bytes=0-33554431', 'x-ms-version': '2017-07-29', 'User-Agent': 'Azure-Storage/1.1.0-1.1.0 (Python CPython 3.6.2; Darwin 16.5.0)', 'x-ms-client-request-id': '57a69e14-6631-11e8-955b-98e0d9a9e487', 'x-ms-date': 'Sat, 02 Jun 2018 06:51:14 GMT', 'Authorization': 'SharedKey simulator:outL9YX5t9YV2hiVQdvnwZeESekQXvqSupjxtRoOV9s='}.\n",
      "2018-06-02 12:21:14,476 azure.storage.common.storageclient INFO  Client-Request-ID=57a69e14-6631-11e8-955b-98e0d9a9e487 Outgoing request: Method=GET, Path=/quickstartblobs/QuickStart_719c80ab-e721-49e6-9573-106b5404bfdd.txt, Query={'snapshot': None, 'timeout': None}, Headers={'x-ms-lease-id': None, 'If-Modified-Since': None, 'If-Unmodified-Since': None, 'If-Match': None, 'If-None-Match': None, 'x-ms-range': 'bytes=0-33554431', 'x-ms-version': '2017-07-29', 'User-Agent': 'Azure-Storage/1.1.0-1.1.0 (Python CPython 3.6.2; Darwin 16.5.0)', 'x-ms-client-request-id': '57a69e14-6631-11e8-955b-98e0d9a9e487', 'x-ms-date': 'Sat, 02 Jun 2018 06:51:14 GMT', 'Authorization': 'SharedKey simulator:outL9YX5t9YV2hiVQdvnwZeESekQXvqSupjxtRoOV9s='}.\n",
      "2018-06-02 12:21:14,476 azure.storage.common.storageclient INFO  Client-Request-ID=57a69e14-6631-11e8-955b-98e0d9a9e487 Outgoing request: Method=GET, Path=/quickstartblobs/QuickStart_719c80ab-e721-49e6-9573-106b5404bfdd.txt, Query={'snapshot': None, 'timeout': None}, Headers={'x-ms-lease-id': None, 'If-Modified-Since': None, 'If-Unmodified-Since': None, 'If-Match': None, 'If-None-Match': None, 'x-ms-range': 'bytes=0-33554431', 'x-ms-version': '2017-07-29', 'User-Agent': 'Azure-Storage/1.1.0-1.1.0 (Python CPython 3.6.2; Darwin 16.5.0)', 'x-ms-client-request-id': '57a69e14-6631-11e8-955b-98e0d9a9e487', 'x-ms-date': 'Sat, 02 Jun 2018 06:51:14 GMT', 'Authorization': 'SharedKey simulator:outL9YX5t9YV2hiVQdvnwZeESekQXvqSupjxtRoOV9s='}.\n",
      "2018-06-02 12:21:14,476 azure.storage.common.storageclient INFO  Client-Request-ID=57a69e14-6631-11e8-955b-98e0d9a9e487 Outgoing request: Method=GET, Path=/quickstartblobs/QuickStart_719c80ab-e721-49e6-9573-106b5404bfdd.txt, Query={'snapshot': None, 'timeout': None}, Headers={'x-ms-lease-id': None, 'If-Modified-Since': None, 'If-Unmodified-Since': None, 'If-Match': None, 'If-None-Match': None, 'x-ms-range': 'bytes=0-33554431', 'x-ms-version': '2017-07-29', 'User-Agent': 'Azure-Storage/1.1.0-1.1.0 (Python CPython 3.6.2; Darwin 16.5.0)', 'x-ms-client-request-id': '57a69e14-6631-11e8-955b-98e0d9a9e487', 'x-ms-date': 'Sat, 02 Jun 2018 06:51:14 GMT', 'Authorization': 'SharedKey simulator:outL9YX5t9YV2hiVQdvnwZeESekQXvqSupjxtRoOV9s='}.\n",
      "2018-06-02 12:21:14,476 azure.storage.common.storageclient INFO  Client-Request-ID=57a69e14-6631-11e8-955b-98e0d9a9e487 Outgoing request: Method=GET, Path=/quickstartblobs/QuickStart_719c80ab-e721-49e6-9573-106b5404bfdd.txt, Query={'snapshot': None, 'timeout': None}, Headers={'x-ms-lease-id': None, 'If-Modified-Since': None, 'If-Unmodified-Since': None, 'If-Match': None, 'If-None-Match': None, 'x-ms-range': 'bytes=0-33554431', 'x-ms-version': '2017-07-29', 'User-Agent': 'Azure-Storage/1.1.0-1.1.0 (Python CPython 3.6.2; Darwin 16.5.0)', 'x-ms-client-request-id': '57a69e14-6631-11e8-955b-98e0d9a9e487', 'x-ms-date': 'Sat, 02 Jun 2018 06:51:14 GMT', 'Authorization': 'SharedKey simulator:outL9YX5t9YV2hiVQdvnwZeESekQXvqSupjxtRoOV9s='}.\n"
     ]
    },
    {
     "name": "stdout",
     "output_type": "stream",
     "text": [
      "\t Blob name: QuickStart_719c80ab-e721-49e6-9573-106b5404bfdd.txt\n",
      "\n",
      "Downloading blob to /Users/shankarnatarajan/PycharmProjects/Simulator/QuickStart_719c80ab-e721-49e6-9573-106b5404bfdd_DOWNLOADED.txt\n"
     ]
    },
    {
     "name": "stderr",
     "output_type": "stream",
     "text": [
      "2018-06-02 12:21:14,855 azure.storage.common.storageclient INFO  Client-Request-ID=57a69e14-6631-11e8-955b-98e0d9a9e487 Receiving Response: Server-Timestamp=Sat, 02 Jun 2018 06:51:13 GMT, Server-Request-ID=c50a4a01-a01e-00ee-083e-fa3051000000, HTTP Status Code=206, Message=Partial Content, Headers={'x-ms-lease-id': None, 'If-Modified-Since': None, 'If-Unmodified-Since': None, 'If-Match': None, 'If-None-Match': None, 'x-ms-range': 'bytes=0-33554431', 'x-ms-version': '2017-07-29', 'User-Agent': 'Azure-Storage/1.1.0-1.1.0 (Python CPython 3.6.2; Darwin 16.5.0)', 'x-ms-client-request-id': '57a69e14-6631-11e8-955b-98e0d9a9e487', 'x-ms-date': 'Sat, 02 Jun 2018 06:51:14 GMT', 'Authorization': 'SharedKey simulator:outL9YX5t9YV2hiVQdvnwZeESekQXvqSupjxtRoOV9s='}.\n",
      "2018-06-02 12:21:14,855 azure.storage.common.storageclient INFO  Client-Request-ID=57a69e14-6631-11e8-955b-98e0d9a9e487 Receiving Response: Server-Timestamp=Sat, 02 Jun 2018 06:51:13 GMT, Server-Request-ID=c50a4a01-a01e-00ee-083e-fa3051000000, HTTP Status Code=206, Message=Partial Content, Headers={'x-ms-lease-id': None, 'If-Modified-Since': None, 'If-Unmodified-Since': None, 'If-Match': None, 'If-None-Match': None, 'x-ms-range': 'bytes=0-33554431', 'x-ms-version': '2017-07-29', 'User-Agent': 'Azure-Storage/1.1.0-1.1.0 (Python CPython 3.6.2; Darwin 16.5.0)', 'x-ms-client-request-id': '57a69e14-6631-11e8-955b-98e0d9a9e487', 'x-ms-date': 'Sat, 02 Jun 2018 06:51:14 GMT', 'Authorization': 'SharedKey simulator:outL9YX5t9YV2hiVQdvnwZeESekQXvqSupjxtRoOV9s='}.\n",
      "2018-06-02 12:21:14,855 azure.storage.common.storageclient INFO  Client-Request-ID=57a69e14-6631-11e8-955b-98e0d9a9e487 Receiving Response: Server-Timestamp=Sat, 02 Jun 2018 06:51:13 GMT, Server-Request-ID=c50a4a01-a01e-00ee-083e-fa3051000000, HTTP Status Code=206, Message=Partial Content, Headers={'x-ms-lease-id': None, 'If-Modified-Since': None, 'If-Unmodified-Since': None, 'If-Match': None, 'If-None-Match': None, 'x-ms-range': 'bytes=0-33554431', 'x-ms-version': '2017-07-29', 'User-Agent': 'Azure-Storage/1.1.0-1.1.0 (Python CPython 3.6.2; Darwin 16.5.0)', 'x-ms-client-request-id': '57a69e14-6631-11e8-955b-98e0d9a9e487', 'x-ms-date': 'Sat, 02 Jun 2018 06:51:14 GMT', 'Authorization': 'SharedKey simulator:outL9YX5t9YV2hiVQdvnwZeESekQXvqSupjxtRoOV9s='}.\n",
      "2018-06-02 12:21:14,855 azure.storage.common.storageclient INFO  Client-Request-ID=57a69e14-6631-11e8-955b-98e0d9a9e487 Receiving Response: Server-Timestamp=Sat, 02 Jun 2018 06:51:13 GMT, Server-Request-ID=c50a4a01-a01e-00ee-083e-fa3051000000, HTTP Status Code=206, Message=Partial Content, Headers={'x-ms-lease-id': None, 'If-Modified-Since': None, 'If-Unmodified-Since': None, 'If-Match': None, 'If-None-Match': None, 'x-ms-range': 'bytes=0-33554431', 'x-ms-version': '2017-07-29', 'User-Agent': 'Azure-Storage/1.1.0-1.1.0 (Python CPython 3.6.2; Darwin 16.5.0)', 'x-ms-client-request-id': '57a69e14-6631-11e8-955b-98e0d9a9e487', 'x-ms-date': 'Sat, 02 Jun 2018 06:51:14 GMT', 'Authorization': 'SharedKey simulator:outL9YX5t9YV2hiVQdvnwZeESekQXvqSupjxtRoOV9s='}.\n",
      "2018-06-02 12:21:14,855 azure.storage.common.storageclient INFO  Client-Request-ID=57a69e14-6631-11e8-955b-98e0d9a9e487 Receiving Response: Server-Timestamp=Sat, 02 Jun 2018 06:51:13 GMT, Server-Request-ID=c50a4a01-a01e-00ee-083e-fa3051000000, HTTP Status Code=206, Message=Partial Content, Headers={'x-ms-lease-id': None, 'If-Modified-Since': None, 'If-Unmodified-Since': None, 'If-Match': None, 'If-None-Match': None, 'x-ms-range': 'bytes=0-33554431', 'x-ms-version': '2017-07-29', 'User-Agent': 'Azure-Storage/1.1.0-1.1.0 (Python CPython 3.6.2; Darwin 16.5.0)', 'x-ms-client-request-id': '57a69e14-6631-11e8-955b-98e0d9a9e487', 'x-ms-date': 'Sat, 02 Jun 2018 06:51:14 GMT', 'Authorization': 'SharedKey simulator:outL9YX5t9YV2hiVQdvnwZeESekQXvqSupjxtRoOV9s='}.\n",
      "2018-06-02 12:21:14,855 azure.storage.common.storageclient INFO  Client-Request-ID=57a69e14-6631-11e8-955b-98e0d9a9e487 Receiving Response: Server-Timestamp=Sat, 02 Jun 2018 06:51:13 GMT, Server-Request-ID=c50a4a01-a01e-00ee-083e-fa3051000000, HTTP Status Code=206, Message=Partial Content, Headers={'x-ms-lease-id': None, 'If-Modified-Since': None, 'If-Unmodified-Since': None, 'If-Match': None, 'If-None-Match': None, 'x-ms-range': 'bytes=0-33554431', 'x-ms-version': '2017-07-29', 'User-Agent': 'Azure-Storage/1.1.0-1.1.0 (Python CPython 3.6.2; Darwin 16.5.0)', 'x-ms-client-request-id': '57a69e14-6631-11e8-955b-98e0d9a9e487', 'x-ms-date': 'Sat, 02 Jun 2018 06:51:14 GMT', 'Authorization': 'SharedKey simulator:outL9YX5t9YV2hiVQdvnwZeESekQXvqSupjxtRoOV9s='}.\n"
     ]
    },
    {
     "name": "stdout",
     "output_type": "stream",
     "text": [
      "Sample finished running. When you hit <any key>, the sample will be deleted and the sample application will exit.\n"
     ]
    },
    {
     "name": "stderr",
     "output_type": "stream",
     "text": [
      "2018-06-02 12:22:25,977 azure.storage.common.storageclient INFO  Client-Request-ID=8244bad4-6631-11e8-b42d-98e0d9a9e487 Outgoing request: Method=DELETE, Path=/quickstartblobs, Query={'restype': 'container', 'timeout': None}, Headers={'x-ms-lease-id': None, 'If-Modified-Since': None, 'If-Unmodified-Since': None, 'x-ms-version': '2017-07-29', 'User-Agent': 'Azure-Storage/1.1.0-1.1.0 (Python CPython 3.6.2; Darwin 16.5.0)', 'x-ms-client-request-id': '8244bad4-6631-11e8-b42d-98e0d9a9e487', 'x-ms-date': 'Sat, 02 Jun 2018 06:52:25 GMT', 'Authorization': 'SharedKey simulator:jXY4NIdDNnxJcFRM46Gn4SWFJDzsPeavStnoNuFwsPQ='}.\n",
      "2018-06-02 12:22:25,977 azure.storage.common.storageclient INFO  Client-Request-ID=8244bad4-6631-11e8-b42d-98e0d9a9e487 Outgoing request: Method=DELETE, Path=/quickstartblobs, Query={'restype': 'container', 'timeout': None}, Headers={'x-ms-lease-id': None, 'If-Modified-Since': None, 'If-Unmodified-Since': None, 'x-ms-version': '2017-07-29', 'User-Agent': 'Azure-Storage/1.1.0-1.1.0 (Python CPython 3.6.2; Darwin 16.5.0)', 'x-ms-client-request-id': '8244bad4-6631-11e8-b42d-98e0d9a9e487', 'x-ms-date': 'Sat, 02 Jun 2018 06:52:25 GMT', 'Authorization': 'SharedKey simulator:jXY4NIdDNnxJcFRM46Gn4SWFJDzsPeavStnoNuFwsPQ='}.\n",
      "2018-06-02 12:22:25,977 azure.storage.common.storageclient INFO  Client-Request-ID=8244bad4-6631-11e8-b42d-98e0d9a9e487 Outgoing request: Method=DELETE, Path=/quickstartblobs, Query={'restype': 'container', 'timeout': None}, Headers={'x-ms-lease-id': None, 'If-Modified-Since': None, 'If-Unmodified-Since': None, 'x-ms-version': '2017-07-29', 'User-Agent': 'Azure-Storage/1.1.0-1.1.0 (Python CPython 3.6.2; Darwin 16.5.0)', 'x-ms-client-request-id': '8244bad4-6631-11e8-b42d-98e0d9a9e487', 'x-ms-date': 'Sat, 02 Jun 2018 06:52:25 GMT', 'Authorization': 'SharedKey simulator:jXY4NIdDNnxJcFRM46Gn4SWFJDzsPeavStnoNuFwsPQ='}.\n",
      "2018-06-02 12:22:25,977 azure.storage.common.storageclient INFO  Client-Request-ID=8244bad4-6631-11e8-b42d-98e0d9a9e487 Outgoing request: Method=DELETE, Path=/quickstartblobs, Query={'restype': 'container', 'timeout': None}, Headers={'x-ms-lease-id': None, 'If-Modified-Since': None, 'If-Unmodified-Since': None, 'x-ms-version': '2017-07-29', 'User-Agent': 'Azure-Storage/1.1.0-1.1.0 (Python CPython 3.6.2; Darwin 16.5.0)', 'x-ms-client-request-id': '8244bad4-6631-11e8-b42d-98e0d9a9e487', 'x-ms-date': 'Sat, 02 Jun 2018 06:52:25 GMT', 'Authorization': 'SharedKey simulator:jXY4NIdDNnxJcFRM46Gn4SWFJDzsPeavStnoNuFwsPQ='}.\n",
      "2018-06-02 12:22:25,977 azure.storage.common.storageclient INFO  Client-Request-ID=8244bad4-6631-11e8-b42d-98e0d9a9e487 Outgoing request: Method=DELETE, Path=/quickstartblobs, Query={'restype': 'container', 'timeout': None}, Headers={'x-ms-lease-id': None, 'If-Modified-Since': None, 'If-Unmodified-Since': None, 'x-ms-version': '2017-07-29', 'User-Agent': 'Azure-Storage/1.1.0-1.1.0 (Python CPython 3.6.2; Darwin 16.5.0)', 'x-ms-client-request-id': '8244bad4-6631-11e8-b42d-98e0d9a9e487', 'x-ms-date': 'Sat, 02 Jun 2018 06:52:25 GMT', 'Authorization': 'SharedKey simulator:jXY4NIdDNnxJcFRM46Gn4SWFJDzsPeavStnoNuFwsPQ='}.\n",
      "2018-06-02 12:22:25,977 azure.storage.common.storageclient INFO  Client-Request-ID=8244bad4-6631-11e8-b42d-98e0d9a9e487 Outgoing request: Method=DELETE, Path=/quickstartblobs, Query={'restype': 'container', 'timeout': None}, Headers={'x-ms-lease-id': None, 'If-Modified-Since': None, 'If-Unmodified-Since': None, 'x-ms-version': '2017-07-29', 'User-Agent': 'Azure-Storage/1.1.0-1.1.0 (Python CPython 3.6.2; Darwin 16.5.0)', 'x-ms-client-request-id': '8244bad4-6631-11e8-b42d-98e0d9a9e487', 'x-ms-date': 'Sat, 02 Jun 2018 06:52:25 GMT', 'Authorization': 'SharedKey simulator:jXY4NIdDNnxJcFRM46Gn4SWFJDzsPeavStnoNuFwsPQ='}.\n",
      "2018-06-02 12:22:26,434 azure.storage.common.storageclient INFO  Client-Request-ID=8244bad4-6631-11e8-b42d-98e0d9a9e487 Receiving Response: Server-Timestamp=Sat, 02 Jun 2018 06:52:25 GMT, Server-Request-ID=c50a833c-a01e-00ee-0e3e-fa3051000000, HTTP Status Code=202, Message=Accepted, Headers={'x-ms-lease-id': None, 'If-Modified-Since': None, 'If-Unmodified-Since': None, 'x-ms-version': '2017-07-29', 'User-Agent': 'Azure-Storage/1.1.0-1.1.0 (Python CPython 3.6.2; Darwin 16.5.0)', 'x-ms-client-request-id': '8244bad4-6631-11e8-b42d-98e0d9a9e487', 'x-ms-date': 'Sat, 02 Jun 2018 06:52:25 GMT', 'Authorization': 'SharedKey simulator:jXY4NIdDNnxJcFRM46Gn4SWFJDzsPeavStnoNuFwsPQ='}.\n",
      "2018-06-02 12:22:26,434 azure.storage.common.storageclient INFO  Client-Request-ID=8244bad4-6631-11e8-b42d-98e0d9a9e487 Receiving Response: Server-Timestamp=Sat, 02 Jun 2018 06:52:25 GMT, Server-Request-ID=c50a833c-a01e-00ee-0e3e-fa3051000000, HTTP Status Code=202, Message=Accepted, Headers={'x-ms-lease-id': None, 'If-Modified-Since': None, 'If-Unmodified-Since': None, 'x-ms-version': '2017-07-29', 'User-Agent': 'Azure-Storage/1.1.0-1.1.0 (Python CPython 3.6.2; Darwin 16.5.0)', 'x-ms-client-request-id': '8244bad4-6631-11e8-b42d-98e0d9a9e487', 'x-ms-date': 'Sat, 02 Jun 2018 06:52:25 GMT', 'Authorization': 'SharedKey simulator:jXY4NIdDNnxJcFRM46Gn4SWFJDzsPeavStnoNuFwsPQ='}.\n",
      "2018-06-02 12:22:26,434 azure.storage.common.storageclient INFO  Client-Request-ID=8244bad4-6631-11e8-b42d-98e0d9a9e487 Receiving Response: Server-Timestamp=Sat, 02 Jun 2018 06:52:25 GMT, Server-Request-ID=c50a833c-a01e-00ee-0e3e-fa3051000000, HTTP Status Code=202, Message=Accepted, Headers={'x-ms-lease-id': None, 'If-Modified-Since': None, 'If-Unmodified-Since': None, 'x-ms-version': '2017-07-29', 'User-Agent': 'Azure-Storage/1.1.0-1.1.0 (Python CPython 3.6.2; Darwin 16.5.0)', 'x-ms-client-request-id': '8244bad4-6631-11e8-b42d-98e0d9a9e487', 'x-ms-date': 'Sat, 02 Jun 2018 06:52:25 GMT', 'Authorization': 'SharedKey simulator:jXY4NIdDNnxJcFRM46Gn4SWFJDzsPeavStnoNuFwsPQ='}.\n",
      "2018-06-02 12:22:26,434 azure.storage.common.storageclient INFO  Client-Request-ID=8244bad4-6631-11e8-b42d-98e0d9a9e487 Receiving Response: Server-Timestamp=Sat, 02 Jun 2018 06:52:25 GMT, Server-Request-ID=c50a833c-a01e-00ee-0e3e-fa3051000000, HTTP Status Code=202, Message=Accepted, Headers={'x-ms-lease-id': None, 'If-Modified-Since': None, 'If-Unmodified-Since': None, 'x-ms-version': '2017-07-29', 'User-Agent': 'Azure-Storage/1.1.0-1.1.0 (Python CPython 3.6.2; Darwin 16.5.0)', 'x-ms-client-request-id': '8244bad4-6631-11e8-b42d-98e0d9a9e487', 'x-ms-date': 'Sat, 02 Jun 2018 06:52:25 GMT', 'Authorization': 'SharedKey simulator:jXY4NIdDNnxJcFRM46Gn4SWFJDzsPeavStnoNuFwsPQ='}.\n",
      "2018-06-02 12:22:26,434 azure.storage.common.storageclient INFO  Client-Request-ID=8244bad4-6631-11e8-b42d-98e0d9a9e487 Receiving Response: Server-Timestamp=Sat, 02 Jun 2018 06:52:25 GMT, Server-Request-ID=c50a833c-a01e-00ee-0e3e-fa3051000000, HTTP Status Code=202, Message=Accepted, Headers={'x-ms-lease-id': None, 'If-Modified-Since': None, 'If-Unmodified-Since': None, 'x-ms-version': '2017-07-29', 'User-Agent': 'Azure-Storage/1.1.0-1.1.0 (Python CPython 3.6.2; Darwin 16.5.0)', 'x-ms-client-request-id': '8244bad4-6631-11e8-b42d-98e0d9a9e487', 'x-ms-date': 'Sat, 02 Jun 2018 06:52:25 GMT', 'Authorization': 'SharedKey simulator:jXY4NIdDNnxJcFRM46Gn4SWFJDzsPeavStnoNuFwsPQ='}.\n",
      "2018-06-02 12:22:26,434 azure.storage.common.storageclient INFO  Client-Request-ID=8244bad4-6631-11e8-b42d-98e0d9a9e487 Receiving Response: Server-Timestamp=Sat, 02 Jun 2018 06:52:25 GMT, Server-Request-ID=c50a833c-a01e-00ee-0e3e-fa3051000000, HTTP Status Code=202, Message=Accepted, Headers={'x-ms-lease-id': None, 'If-Modified-Since': None, 'If-Unmodified-Since': None, 'x-ms-version': '2017-07-29', 'User-Agent': 'Azure-Storage/1.1.0-1.1.0 (Python CPython 3.6.2; Darwin 16.5.0)', 'x-ms-client-request-id': '8244bad4-6631-11e8-b42d-98e0d9a9e487', 'x-ms-date': 'Sat, 02 Jun 2018 06:52:25 GMT', 'Authorization': 'SharedKey simulator:jXY4NIdDNnxJcFRM46Gn4SWFJDzsPeavStnoNuFwsPQ='}.\n"
     ]
    }
   ],
   "source": [
    "import os, uuid, sys\n",
    "from azure.storage.blob import BlockBlobService, PublicAccess\n",
    "import pandas as pd\n",
    "def run_sample():\n",
    "    try:\n",
    "        # Create the BlockBlockService that is used to call the Blob service for the storage account\n",
    "        block_blob_service = BlockBlobService(account_name=STORAGE_ACCOUNT_NAME, account_key=STORAGE_ACCOUNT_KEY)\n",
    "\n",
    "        # Create a container called 'quickstartblobs'.\n",
    "        container_name ='quickstartblobs'\n",
    "        block_blob_service.create_container(container_name)\n",
    "\n",
    "        # Set the permission so the blobs are public.\n",
    "        block_blob_service.set_container_acl(container_name, public_access=PublicAccess.Container)\n",
    "\n",
    "        # Create a file in Documents to test the upload and download.\n",
    "        local_path=os.path.expanduser(\"/Users/shankarnatarajan/PycharmProjects/Simulator\")\n",
    "        local_file_name =\"QuickStart_\" + str(uuid.uuid4()) + \".txt\"\n",
    "        full_path_to_file =os.path.join(local_path, local_file_name)\n",
    "\n",
    "        # Write text to the file.\n",
    "        file = open(full_path_to_file,  'w')\n",
    "        file.write(\"Hello, World!\")\n",
    "        file.close()\n",
    "\n",
    "        print(\"Temp file = \" + full_path_to_file)\n",
    "        print(\"\\nUploading to Blob storage as blob\" + local_file_name)\n",
    "\n",
    "        # Upload the created file, use local_file_name for the blob name\n",
    "        block_blob_service.create_blob_from_path(container_name, local_file_name, full_path_to_file)\n",
    "\n",
    "        # List the blobs in the container\n",
    "        print(\"\\nList blobs in the container\")\n",
    "        generator = block_blob_service.list_blobs(container_name)\n",
    "        for blob in generator:\n",
    "            print(\"\\t Blob name: \" + blob.name)\n",
    "\n",
    "        # Download the blob(s).\n",
    "        # Add '_DOWNLOADED' as prefix to '.txt' so you can see both files in Documents.\n",
    "        full_path_to_file2 = os.path.join(local_path, str.replace(local_file_name ,'.txt', '_DOWNLOADED.txt'))\n",
    "        print(\"\\nDownloading blob to \" + full_path_to_file2)\n",
    "        block_blob_service.get_blob_to_path(container_name, local_file_name, full_path_to_file2)\n",
    "\n",
    "        sys.stdout.write(\"Sample finished running. When you hit <any key>, the sample will be deleted and the sample \"\n",
    "                         \"application will exit.\")\n",
    "        sys.stdout.flush()\n",
    "        input()\n",
    "\n",
    "        # Clean up resources. This includes the container and the temp files\n",
    "        block_blob_service.delete_container(container_name)\n",
    "        os.remove(full_path_to_file)\n",
    "        os.remove(full_path_to_file2)\n",
    "    except Exception as e:\n",
    "        print(e)\n",
    "\n",
    "\n",
    "# Main method.\n",
    "if __name__ == '__main__':\n",
    "    run_sample()\n",
    "\n"
   ]
  },
  {
   "cell_type": "code",
   "execution_count": null,
   "metadata": {
    "collapsed": true
   },
   "outputs": [],
   "source": []
  }
 ],
 "metadata": {
  "kernelspec": {
   "display_name": "Python 3",
   "language": "python",
   "name": "python3"
  },
  "language_info": {
   "codemirror_mode": {
    "name": "ipython",
    "version": 3
   },
   "file_extension": ".py",
   "mimetype": "text/x-python",
   "name": "python",
   "nbconvert_exporter": "python",
   "pygments_lexer": "ipython3",
   "version": "3.6.2"
  }
 },
 "nbformat": 4,
 "nbformat_minor": 2
}
