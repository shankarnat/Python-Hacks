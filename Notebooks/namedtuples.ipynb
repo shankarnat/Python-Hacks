{
 "cells": [
  {
   "cell_type": "code",
   "execution_count": 2,
   "metadata": {},
   "outputs": [],
   "source": [
    "from collections import namedtuple"
   ]
  },
  {
   "cell_type": "code",
   "execution_count": 3,
   "metadata": {},
   "outputs": [
    {
     "ename": "SyntaxError",
     "evalue": "invalid syntax (<ipython-input-3-137087f3d68b>, line 2)",
     "output_type": "error",
     "traceback": [
      "\u001b[0;36m  File \u001b[0;32m\"<ipython-input-3-137087f3d68b>\"\u001b[0;36m, line \u001b[0;32m2\u001b[0m\n\u001b[0;31m    var assets\u001b[0m\n\u001b[0m             ^\u001b[0m\n\u001b[0;31mSyntaxError\u001b[0m\u001b[0;31m:\u001b[0m invalid syntax\n"
     ]
    }
   ],
   "source": [
    "class balancesheet(namedtuple):\n",
    "    var assets\n",
    "    var liabilities"
   ]
  },
  {
   "cell_type": "code",
   "execution_count": 36,
   "metadata": {
    "collapsed": true
   },
   "outputs": [],
   "source": [
    "from collections import namedtuple\n",
    "\n",
    "class balancesheet(namedtuple('balancesheet', 'a b c computed_value')):\n",
    "    def calculate(self,a,b,c,d):\n",
    "        return a + b + c + d\n",
    "    def __new__(cls, a, b, c):\n",
    "        computed_value = self.calculate(a,b,c,9)\n",
    "        return super(balancesheet, cls).__new__(cls, a, b, c, computed_value)\n",
    "    \n"
   ]
  },
  {
   "cell_type": "code",
   "execution_count": 37,
   "metadata": {},
   "outputs": [
    {
     "ename": "NameError",
     "evalue": "name 'self' is not defined",
     "output_type": "error",
     "traceback": [
      "\u001b[0;31m---------------------------------------------------------------------------\u001b[0m",
      "\u001b[0;31mNameError\u001b[0m                                 Traceback (most recent call last)",
      "\u001b[0;32m<ipython-input-37-517b548753c7>\u001b[0m in \u001b[0;36m<module>\u001b[0;34m()\u001b[0m\n\u001b[0;32m----> 1\u001b[0;31m \u001b[0mB\u001b[0m \u001b[0;34m=\u001b[0m  \u001b[0mbalancesheet\u001b[0m\u001b[0;34m(\u001b[0m\u001b[0mb\u001b[0m\u001b[0;34m=\u001b[0m\u001b[0;36m1\u001b[0m\u001b[0;34m,\u001b[0m\u001b[0ma\u001b[0m\u001b[0;34m=\u001b[0m\u001b[0;36m2\u001b[0m\u001b[0;34m,\u001b[0m\u001b[0mc\u001b[0m\u001b[0;34m=\u001b[0m\u001b[0;36m3\u001b[0m\u001b[0;34m)\u001b[0m\u001b[0;34m\u001b[0m\u001b[0m\n\u001b[0m",
      "\u001b[0;32m<ipython-input-36-a54764515f10>\u001b[0m in \u001b[0;36m__new__\u001b[0;34m(cls, a, b, c)\u001b[0m\n\u001b[1;32m      5\u001b[0m         \u001b[0;32mreturn\u001b[0m \u001b[0ma\u001b[0m \u001b[0;34m+\u001b[0m \u001b[0mb\u001b[0m \u001b[0;34m+\u001b[0m \u001b[0mc\u001b[0m \u001b[0;34m+\u001b[0m \u001b[0md\u001b[0m\u001b[0;34m\u001b[0m\u001b[0m\n\u001b[1;32m      6\u001b[0m     \u001b[0;32mdef\u001b[0m \u001b[0m__new__\u001b[0m\u001b[0;34m(\u001b[0m\u001b[0mcls\u001b[0m\u001b[0;34m,\u001b[0m \u001b[0ma\u001b[0m\u001b[0;34m,\u001b[0m \u001b[0mb\u001b[0m\u001b[0;34m,\u001b[0m \u001b[0mc\u001b[0m\u001b[0;34m)\u001b[0m\u001b[0;34m:\u001b[0m\u001b[0;34m\u001b[0m\u001b[0m\n\u001b[0;32m----> 7\u001b[0;31m         \u001b[0mcomputed_value\u001b[0m \u001b[0;34m=\u001b[0m \u001b[0mself\u001b[0m\u001b[0;34m.\u001b[0m\u001b[0mcalculate\u001b[0m\u001b[0;34m(\u001b[0m\u001b[0ma\u001b[0m\u001b[0;34m,\u001b[0m\u001b[0mb\u001b[0m\u001b[0;34m,\u001b[0m\u001b[0mc\u001b[0m\u001b[0;34m,\u001b[0m\u001b[0;36m9\u001b[0m\u001b[0;34m)\u001b[0m\u001b[0;34m\u001b[0m\u001b[0m\n\u001b[0m\u001b[1;32m      8\u001b[0m         \u001b[0;32mreturn\u001b[0m \u001b[0msuper\u001b[0m\u001b[0;34m(\u001b[0m\u001b[0mbalancesheet\u001b[0m\u001b[0;34m,\u001b[0m \u001b[0mcls\u001b[0m\u001b[0;34m)\u001b[0m\u001b[0;34m.\u001b[0m\u001b[0m__new__\u001b[0m\u001b[0;34m(\u001b[0m\u001b[0mcls\u001b[0m\u001b[0;34m,\u001b[0m \u001b[0ma\u001b[0m\u001b[0;34m,\u001b[0m \u001b[0mb\u001b[0m\u001b[0;34m,\u001b[0m \u001b[0mc\u001b[0m\u001b[0;34m,\u001b[0m \u001b[0mcomputed_value\u001b[0m\u001b[0;34m)\u001b[0m\u001b[0;34m\u001b[0m\u001b[0m\n\u001b[1;32m      9\u001b[0m \u001b[0;34m\u001b[0m\u001b[0m\n",
      "\u001b[0;31mNameError\u001b[0m: name 'self' is not defined"
     ]
    }
   ],
   "source": [
    "B =  balancesheet(b=1,a=2,c=3)"
   ]
  },
  {
   "cell_type": "code",
   "execution_count": 29,
   "metadata": {},
   "outputs": [
    {
     "data": {
      "text/plain": [
       "('a', 'b', 'c', 'computed_value')"
      ]
     },
     "execution_count": 29,
     "metadata": {},
     "output_type": "execute_result"
    }
   ],
   "source": []
  },
  {
   "cell_type": "code",
   "execution_count": 38,
   "metadata": {},
   "outputs": [
    {
     "ename": "TypeError",
     "evalue": "'method' object is not subscriptable",
     "output_type": "error",
     "traceback": [
      "\u001b[0;31m---------------------------------------------------------------------------\u001b[0m",
      "\u001b[0;31mTypeError\u001b[0m                                 Traceback (most recent call last)",
      "\u001b[0;32m<ipython-input-38-402d8095c81a>\u001b[0m in \u001b[0;36m<module>\u001b[0;34m()\u001b[0m\n\u001b[0;32m----> 1\u001b[0;31m \u001b[0mB\u001b[0m\u001b[0;34m.\u001b[0m\u001b[0m_make\u001b[0m\u001b[0;34m[\u001b[0m\u001b[0;34m(\u001b[0m\u001b[0;36m1\u001b[0m\u001b[0;34m)\u001b[0m\u001b[0;34m]\u001b[0m\u001b[0;34m\u001b[0m\u001b[0m\n\u001b[0m",
      "\u001b[0;31mTypeError\u001b[0m: 'method' object is not subscriptable"
     ]
    }
   ],
   "source": [
    "B._make[(1)]"
   ]
  },
  {
   "cell_type": "code",
   "execution_count": null,
   "metadata": {
    "collapsed": true
   },
   "outputs": [],
   "source": [
    "#Create a Balancesheet named tuple\n",
    "#Create a Income statement namedtuple\n",
    "#Create a financial statement namedtuple\n",
    "#Have initial value\n",
    "#Have previous value\n",
    "#Have current value\n",
    "#Persist the current values\n",
    "#Fetch all the cost variablesm\n",
    "#Assignment of value to be don\n",
    "\n"
   ]
  },
  {
   "cell_type": "code",
   "execution_count": null,
   "metadata": {
    "collapsed": true
   },
   "outputs": [],
   "source": [
    "#Connect to a azure db from flask server basically, in which we would have all these values.\n",
    "#I am planning to use pandas dataframe to store the value in Azure DB"
   ]
  },
  {
   "cell_type": "code",
   "execution_count": null,
   "metadata": {
    "collapsed": true
   },
   "outputs": [],
   "source": [
    "#Javascript to write a good UX for the simulator. Should not be a big deal."
   ]
  },
  {
   "cell_type": "code",
   "execution_count": null,
   "metadata": {
    "collapsed": true
   },
   "outputs": [],
   "source": [
    "#Write a celery worker in flask as well"
   ]
  },
  {
   "cell_type": "code",
   "execution_count": null,
   "metadata": {
    "collapsed": true
   },
   "outputs": [],
   "source": [
    "#Need to learn how to create and access blob storage in Azure."
   ]
  },
  {
   "cell_type": "code",
   "execution_count": 39,
   "metadata": {},
   "outputs": [
    {
     "name": "stdout",
     "output_type": "stream",
     "text": [
      "Collecting azure\n",
      "  Downloading https://files.pythonhosted.org/packages/b6/47/36fa01a6ab4b6b840bb343719a538881db5f5e7af44196a20b72cdf0fab1/azure-3.0.0-py2.py3-none-any.whl\n",
      "Collecting azure-keyvault~=0.3.7 (from azure)\n",
      "  Downloading https://files.pythonhosted.org/packages/7e/f7/1e186b391b6095037c6d45d23ac76b4e9cc4f6c23755a78ca56fc39fad00/azure_keyvault-0.3.7-py2.py3-none-any.whl (100kB)\n",
      "\u001b[K    100% |████████████████████████████████| 102kB 202kB/s a 0:00:01\n",
      "\u001b[?25hCollecting azure-cosmosdb-table~=1.0 (from azure)\n",
      "  Downloading https://files.pythonhosted.org/packages/2f/7a/a1157451438c07ea2e2fa0ab80767bf5f44ebf5b1f6118451744d608c81f/azure_cosmosdb_table-1.0.3-py2.py3-none-any.whl (80kB)\n",
      "\u001b[K    100% |████████████████████████████████| 81kB 430kB/s ta 0:00:01\n",
      "\u001b[?25hCollecting azure-storage-file~=1.1 (from azure)\n",
      "  Downloading https://files.pythonhosted.org/packages/e9/2b/7d365610e5e303def65d54499b0dc24b66531b94254f26bf27a142485a5f/azure_storage_file-1.1.0-py2.py3-none-any.whl\n",
      "Collecting azure-eventgrid~=0.1.0 (from azure)\n",
      "  Downloading https://files.pythonhosted.org/packages/47/a0/4cbbaebc96fdd83ca7afbe63a546f37ab86260a9ad1b3df361cea9ed594e/azure_eventgrid-0.1.0-py2.py3-none-any.whl\n",
      "Collecting azure-mgmt~=2.0 (from azure)\n",
      "  Downloading https://files.pythonhosted.org/packages/f2/b4/0e9ccf1623f10c1d4bc84a6cb9f29121dc0ccf2d0ba0e2c9421cb1ec9131/azure_mgmt-2.0.0-py2.py3-none-any.whl\n",
      "Collecting azure-servicemanagement-legacy~=0.20.6 (from azure)\n",
      "  Downloading https://files.pythonhosted.org/packages/a3/2b/0813d459df7ec04bb8c6a250882ee88b672a5f8d16a237978c89436a053e/azure_servicemanagement_legacy-0.20.6-py2.py3-none-any.whl (78kB)\n",
      "\u001b[K    100% |████████████████████████████████| 81kB 631kB/s ta 0:00:01\n",
      "\u001b[?25hCollecting azure-graphrbac~=0.40.0 (from azure)\n",
      "  Downloading https://files.pythonhosted.org/packages/89/0a/29f7e2914033e2536026b8f0d7f8deb1edda68c9a93ce4757b2b1e39568b/azure_graphrbac-0.40.0-py2.py3-none-any.whl (63kB)\n",
      "\u001b[K    100% |████████████████████████████████| 71kB 1.0MB/s ta 0:00:01\n",
      "\u001b[?25hCollecting azure-batch~=4.0 (from azure)\n",
      "  Downloading https://files.pythonhosted.org/packages/b1/fa/1053b5dcd88e5de8e8cd70a4d7189ffad037542963ea86b518deb612c498/azure_batch-4.1.3-py2.py3-none-any.whl (314kB)\n",
      "\u001b[K    100% |████████████████████████████████| 317kB 500kB/s ta 0:00:011\n",
      "\u001b[?25hCollecting azure-storage-queue~=1.1 (from azure)\n",
      "  Downloading https://files.pythonhosted.org/packages/7b/a6/4b634664725a15009e5309c4c67aa900775b8f28cb17e08deef12a1fe5f4/azure_storage_queue-1.1.0-py2.py3-none-any.whl\n",
      "Collecting azure-datalake-store~=0.0.18 (from azure)\n",
      "  Downloading https://files.pythonhosted.org/packages/c5/3c/6a93daed80af56c11c673b2055a039d2fa24375b84a113fae5d7764c4e59/azure_datalake_store-0.0.19-py2.py3-none-any.whl (50kB)\n",
      "\u001b[K    100% |████████████████████████████████| 51kB 595kB/s ta 0:00:011\n",
      "\u001b[?25hCollecting azure-servicefabric~=6.1.2.9 (from azure)\n",
      "  Downloading https://files.pythonhosted.org/packages/08/62/029ae2210acaf6243855e12bc0bf72e547c8a45760d4912aee75f713d569/azure_servicefabric-6.1.2.9-py2.py3-none-any.whl (384kB)\n",
      "\u001b[K    100% |████████████████████████████████| 389kB 390kB/s ta 0:00:01\n",
      "\u001b[?25hCollecting azure-storage-blob~=1.1 (from azure)\n",
      "  Downloading https://files.pythonhosted.org/packages/bb/c5/eb29c445c2e1bb1aead35c42e0b303dc52df2dfd6579c8917be0c8a7cc47/azure_storage_blob-1.1.0-py2.py3-none-any.whl (75kB)\n",
      "\u001b[K    100% |████████████████████████████████| 81kB 696kB/s ta 0:00:01\n",
      "\u001b[?25hCollecting azure-servicebus~=0.21.1 (from azure)\n",
      "  Downloading https://files.pythonhosted.org/packages/b8/de/47c0df32b57512ac9640ba239c7eeca22cb908bd8b645235729ec4f37196/azure_servicebus-0.21.1-py2.py3-none-any.whl\n",
      "Collecting azure-nspkg>=2.0.0 (from azure-keyvault~=0.3.7->azure)\n",
      "  Downloading https://files.pythonhosted.org/packages/cd/a0/76ca6659ae9afd7567fdbb5b9c85e9c9a0b48238cfcacd92525484408f66/azure_nspkg-2.0.0-py2.py3-none-any.whl\n",
      "Collecting azure-common~=1.1.5 (from azure-keyvault~=0.3.7->azure)\n",
      "  Downloading https://files.pythonhosted.org/packages/97/3b/2c7cda25382c3bb566008c5c8f8aa28663fd15a80a6204c76ae0035de107/azure_common-1.1.11-py2.py3-none-any.whl\n",
      "Collecting msrestazure~=0.4.7 (from azure-keyvault~=0.3.7->azure)\n",
      "  Downloading https://files.pythonhosted.org/packages/ee/d4/0235848f1991dde8dac97cd85d4d71cd9146f75ece84215c1914a4fa3725/msrestazure-0.4.31-py2.py3-none-any.whl\n",
      "Collecting azure-storage-common<1.2.0,>=1.1.0 (from azure-cosmosdb-table~=1.0->azure)\n",
      "  Downloading https://files.pythonhosted.org/packages/3b/c6/31394ea86134bcfbff5dceb31d7ccde9e9150d7b7b6f4f1563acaaabcd24/azure_storage_common-1.1.0-py2.py3-none-any.whl (46kB)\n",
      "\u001b[K    100% |████████████████████████████████| 51kB 765kB/s ta 0:00:01\n",
      "\u001b[?25hRequirement already satisfied: cryptography in /anaconda3/lib/python3.6/site-packages (from azure-cosmosdb-table~=1.0->azure)\n",
      "Requirement already satisfied: requests in /anaconda3/lib/python3.6/site-packages (from azure-cosmosdb-table~=1.0->azure)\n",
      "Collecting azure-cosmosdb-nspkg>=2.0.0 (from azure-cosmosdb-table~=1.0->azure)\n",
      "  Downloading https://files.pythonhosted.org/packages/58/0d/1329b47e5386b0acf4e42ada2284851eff60ef3337a87e5b2dfedabbfcb1/azure_cosmosdb_nspkg-2.0.2-py2.py3-none-any.whl\n",
      "Collecting futures (from azure-cosmosdb-table~=1.0->azure)\n",
      "  Downloading https://files.pythonhosted.org/packages/cc/26/b61e3a4eb50653e8a7339d84eeaa46d1e93b92951978873c220ae64d0733/futures-3.1.1.tar.gz\n",
      "Requirement already satisfied: python-dateutil in /anaconda3/lib/python3.6/site-packages (from azure-cosmosdb-table~=1.0->azure)\n",
      "Collecting azure-storage-nspkg>=2.0.0 (from azure-storage-file~=1.1->azure)\n",
      "  Downloading https://files.pythonhosted.org/packages/b1/e9/0a11f4feefb9c4c2f7e30d4d448e15b32df3adabe370be70aaf4278fbb52/azure_storage_nspkg-3.0.0-py2.py3-none-any.whl\n",
      "Collecting msrest<2.0.0,>=0.4.26 (from azure-eventgrid~=0.1.0->azure)\n",
      "  Downloading https://files.pythonhosted.org/packages/e1/db/b4b8e0388ad7f100d2ec7c18dbcdfa3d86a1f42b052009ceed223aef7cbd/msrest-0.4.29-py2.py3-none-any.whl (41kB)\n",
      "\u001b[K    100% |████████████████████████████████| 51kB 1.1MB/s ta 0:00:01\n",
      "\u001b[?25hCollecting azure-mgmt-servicefabric~=0.1.0 (from azure-mgmt~=2.0->azure)\n",
      "  Downloading https://files.pythonhosted.org/packages/1f/61/50445e02b83f0aff9900cdf4b57d4a9bb5436df4845540d362b9a80f65a3/azure_mgmt_servicefabric-0.1.0-py2.py3-none-any.whl\n",
      "Collecting azure-mgmt-iothub~=0.4.0 (from azure-mgmt~=2.0->azure)\n",
      "  Downloading https://files.pythonhosted.org/packages/ef/66/b4aa755f156fe519a1493d80f0114963193e38bc89c0a33584103eb223ea/azure_mgmt_iothub-0.4.0-py2.py3-none-any.whl (60kB)\n",
      "\u001b[K    100% |████████████████████████████████| 61kB 716kB/s ta 0:00:01\n",
      "\u001b[?25hCollecting azure-mgmt-authorization~=0.30.0 (from azure-mgmt~=2.0->azure)\n",
      "  Downloading https://files.pythonhosted.org/packages/e9/59/80d405f3e56d40bbc18bdddfe8c3ef2077eaf17362c14ba080bb50aeedc4/azure_mgmt_authorization-0.30.0-py2.py3-none-any.whl\n",
      "Collecting azure-mgmt-dns~=1.2 (from azure-mgmt~=2.0->azure)\n",
      "  Downloading https://files.pythonhosted.org/packages/29/e9/bff494c51298ebe8123aa0994e6cea47e110cb9542d9a8517dbb5bac8713/azure_mgmt_dns-1.2.0-py2.py3-none-any.whl\n",
      "Collecting azure-mgmt-reservations~=0.1.0 (from azure-mgmt~=2.0->azure)\n",
      "  Downloading https://files.pythonhosted.org/packages/3a/ce/23c2208f1226334e04ccf8ab8afbb718ad301003b229b29fc344661f96c3/azure_mgmt_reservations-0.1.0-py2.py3-none-any.whl\n",
      "Collecting azure-mgmt-search~=1.0 (from azure-mgmt~=2.0->azure)\n",
      "  Downloading https://files.pythonhosted.org/packages/d2/5a/08820767a95375e572e0489b8b66efb4f14aca1f06ec1918db1d086388dc/azure_mgmt_search-1.0.0-py2.py3-none-any.whl\n",
      "Collecting azure-mgmt-managementpartner~=0.1.0 (from azure-mgmt~=2.0->azure)\n",
      "  Downloading https://files.pythonhosted.org/packages/98/4c/df713fcdc3710dca74b375c968b17b479c64ef19965e15b478def074a4ce/azure_mgmt_managementpartner-0.1.0-py2.py3-none-any.whl\n",
      "Collecting azure-mgmt-iothubprovisioningservices~=0.1.0 (from azure-mgmt~=2.0->azure)\n",
      "  Downloading https://files.pythonhosted.org/packages/f5/20/9e408c629caf9df48a229f10cfbdcea0eed1fdcf712e7a09ced9c73ef5bc/azure_mgmt_iothubprovisioningservices-0.1.0-py2.py3-none-any.whl (42kB)\n",
      "\u001b[K    100% |████████████████████████████████| 51kB 674kB/s ta 0:00:01\n",
      "\u001b[?25hCollecting azure-mgmt-recoveryservicesbackup~=0.1.1 (from azure-mgmt~=2.0->azure)\n"
     ]
    },
    {
     "name": "stdout",
     "output_type": "stream",
     "text": [
      "  Downloading https://files.pythonhosted.org/packages/88/04/d1e49a53846807845fa54ef5d659af73b0280f5f799ca1212eb2284a5f24/azure_mgmt_recoveryservicesbackup-0.1.1-py2.py3-none-any.whl (202kB)\n",
      "\u001b[K    100% |████████████████████████████████| 204kB 457kB/s ta 0:00:01\n",
      "\u001b[?25hCollecting azure-mgmt-advisor~=1.0 (from azure-mgmt~=2.0->azure)\n",
      "  Downloading https://files.pythonhosted.org/packages/cb/f3/a86ba3e0784d12c8fe5cbf1f24e1b9255575a2f0892e08c46cddd0795dfd/azure_mgmt_advisor-1.0.1-py2.py3-none-any.whl\n",
      "Collecting azure-mgmt-sql~=0.8.5 (from azure-mgmt~=2.0->azure)\n",
      "  Downloading https://files.pythonhosted.org/packages/b4/2f/ebab3425c485d436049a99edb00105f8f260c9499a0ee1b403d86f51fef9/azure_mgmt_sql-0.8.6-py2.py3-none-any.whl (249kB)\n",
      "\u001b[K    100% |████████████████████████████████| 256kB 653kB/s ta 0:00:01\n",
      "\u001b[?25hCollecting azure-mgmt-compute~=3.0 (from azure-mgmt~=2.0->azure)\n",
      "  Downloading https://files.pythonhosted.org/packages/db/b0/560d69539d7f52624e36ece0df65a09ab3035dd0c653856811c9bf48293d/azure_mgmt_compute-3.0.1-py2.py3-none-any.whl (542kB)\n",
      "\u001b[K    100% |████████████████████████████████| 542kB 536kB/s ta 0:00:01\n",
      "\u001b[?25hCollecting azure-mgmt-servicebus~=0.4.0 (from azure-mgmt~=2.0->azure)\n",
      "  Downloading https://files.pythonhosted.org/packages/18/a9/5b53c53e7253050d784505208584ffb2d76c4ff42e2c7579fa5dcb4fa6ca/azure_mgmt_servicebus-0.4.0-py2.py3-none-any.whl (70kB)\n",
      "\u001b[K    100% |████████████████████████████████| 71kB 763kB/s ta 0:00:01\n",
      "\u001b[?25hCollecting azure-mgmt-web~=0.34.1 (from azure-mgmt~=2.0->azure)\n",
      "  Downloading https://files.pythonhosted.org/packages/4f/70/c9f8c095c6ce93dbf8634396ccad3f4eff3d0f91c2330f633f215b9f840e/azure_mgmt_web-0.34.1-py2.py3-none-any.whl (323kB)\n",
      "\u001b[K    100% |████████████████████████████████| 327kB 569kB/s ta 0:00:01\n",
      "\u001b[?25hCollecting azure-mgmt-datalake-store~=0.3.0 (from azure-mgmt~=2.0->azure)\n",
      "  Downloading https://files.pythonhosted.org/packages/ff/09/f7d176ac24ddae80fd8907eaab8d77e9c218e8767d388a5f67d9a12db0d2/azure_mgmt_datalake_store-0.3.0-py2.py3-none-any.whl (44kB)\n",
      "\u001b[K    100% |████████████████████████████████| 51kB 1.2MB/s ta 0:00:011\n",
      "\u001b[?25hCollecting azure-mgmt-trafficmanager~=0.40.0 (from azure-mgmt~=2.0->azure)\n",
      "  Downloading https://files.pythonhosted.org/packages/2c/86/975fc3eaff4a96b74b2664e238d8b1da0f9ae8386ef385a891813fabd8b1/azure_mgmt_trafficmanager-0.40.0-py2.py3-none-any.whl\n",
      "Collecting azure-mgmt-eventgrid~=0.4.0 (from azure-mgmt~=2.0->azure)\n",
      "  Downloading https://files.pythonhosted.org/packages/51/11/6828014c391b0c641ca94813b5c78cbf0984547252a7d71166594e074330/azure_mgmt_eventgrid-0.4.0-py2.py3-none-any.whl\n",
      "Collecting azure-mgmt-commerce~=1.0 (from azure-mgmt~=2.0->azure)\n",
      "  Downloading https://files.pythonhosted.org/packages/7e/13/f421e77dd1fe3c9657a890f9c085f433fe422f54003ee03e631a8be5c4e7/azure_mgmt_commerce-1.0.1-py2.py3-none-any.whl\n",
      "Collecting azure-mgmt-logic~=2.1 (from azure-mgmt~=2.0->azure)\n",
      "  Downloading https://files.pythonhosted.org/packages/1b/89/6f4925f4c1b827f2a2b04912b472dde7c7dc783283aa294f4e53281aceea/azure_mgmt_logic-2.1.0-py2.py3-none-any.whl (139kB)\n",
      "\u001b[K    100% |████████████████████████████████| 143kB 604kB/s ta 0:00:01\n",
      "\u001b[?25hCollecting azure-mgmt-monitor~=0.4.0 (from azure-mgmt~=2.0->azure)\n",
      "  Downloading https://files.pythonhosted.org/packages/09/2e/3cb978a1704bf192440c445ba226de5be386148ecdcaa80937775a9ded80/azure_mgmt_monitor-0.4.0-py2.py3-none-any.whl (107kB)\n",
      "\u001b[K    100% |████████████████████████████████| 112kB 735kB/s ta 0:00:01\n",
      "\u001b[?25hCollecting azure-mgmt-resource~=1.2 (from azure-mgmt~=2.0->azure)\n",
      "  Downloading https://files.pythonhosted.org/packages/71/ec/30b1bea83782bd890ba84c21ab8d1af71bc30f14f51b3688c0a32aec82ce/azure_mgmt_resource-1.2.2-py2.py3-none-any.whl (323kB)\n",
      "\u001b[K    100% |████████████████████████████████| 327kB 505kB/s ta 0:00:01\n",
      "\u001b[?25hCollecting azure-mgmt-containerinstance~=0.3.1 (from azure-mgmt~=2.0->azure)\n",
      "  Downloading https://files.pythonhosted.org/packages/04/1c/ef5e8357f4056dc6c9f75fd2c09144e448d3f4d30b1b6255b36991f58ca0/azure_mgmt_containerinstance-0.3.1-py2.py3-none-any.whl\n",
      "Collecting azure-mgmt-loganalytics~=0.1.0 (from azure-mgmt~=2.0->azure)\n",
      "  Downloading https://files.pythonhosted.org/packages/6b/7c/21b655d028ece42be1974ca863d87f42f537daf339e53000432d60992795/azure_mgmt_loganalytics-0.1.0-py2.py3-none-any.whl (50kB)\n",
      "\u001b[K    100% |████████████████████████████████| 51kB 699kB/s ta 0:00:01\n",
      "\u001b[?25hCollecting azure-mgmt-recoveryservices~=0.2.0 (from azure-mgmt~=2.0->azure)\n",
      "  Downloading https://files.pythonhosted.org/packages/0b/20/766f8597212f4223f9dd6badedb931a27454896428ecb188ab7a9d88d02e/azure_mgmt_recoveryservices-0.2.0-py2.py3-none-any.whl (50kB)\n",
      "\u001b[K    100% |████████████████████████████████| 51kB 682kB/s ta 0:00:01\n",
      "\u001b[?25hCollecting azure-mgmt-powerbiembedded~=1.0 (from azure-mgmt~=2.0->azure)\n",
      "  Downloading https://files.pythonhosted.org/packages/23/d2/bc0be3f537a2b9bc441a5501099a22a183bf4d8971654ca7a7fa84281c39/azure_mgmt_powerbiembedded-1.0.0-py2.py3-none-any.whl\n",
      "Collecting azure-mgmt-redis~=5.0 (from azure-mgmt~=2.0->azure)\n",
      "  Downloading https://files.pythonhosted.org/packages/90/a7/42342a984b2916972c5c5e24df94e3cd5e4377a8dc465a83415706d9be6f/azure_mgmt_redis-5.0.0-py2.py3-none-any.whl (43kB)\n",
      "\u001b[K    100% |████████████████████████████████| 51kB 1.4MB/s ta 0:00:011\n",
      "\u001b[?25hCollecting azure-mgmt-servermanager~=1.2 (from azure-mgmt~=2.0->azure)\n",
      "  Downloading https://files.pythonhosted.org/packages/3c/1b/d045dd01e41d271bde08416e9136fe1a424a710c82ab0bdc9f47e1c8ab59/azure_mgmt_servermanager-1.2.0-py2.py3-none-any.whl (41kB)\n",
      "\u001b[K    100% |████████████████████████████████| 51kB 1.1MB/s ta 0:00:01\n",
      "\u001b[?25hCollecting azure-mgmt-subscription~=0.1.0 (from azure-mgmt~=2.0->azure)\n",
      "  Downloading https://files.pythonhosted.org/packages/25/39/f5d8a679a6f5fa287dc7a0cb7231755d2425783a2b21e0a5a51a1ddd986d/azure_mgmt_subscription-0.1.0-py2.py3-none-any.whl\n",
      "Collecting azure-mgmt-msi~=0.1.0 (from azure-mgmt~=2.0->azure)\n",
      "  Downloading https://files.pythonhosted.org/packages/9e/03/3254f31f56f9d6386a77cdf3b577c05051a5acdb88aef1da5779385d4b6f/azure_mgmt_msi-0.1.0-py2.py3-none-any.whl\n",
      "Collecting azure-mgmt-batchai~=0.2.0 (from azure-mgmt~=2.0->azure)\n",
      "  Downloading https://files.pythonhosted.org/packages/2e/50/9aaf853b0942459f66b019a6854dd5903c3cda0e537d28b27494dd184aac/azure_mgmt_batchai-0.2.0-py2.py3-none-any.whl (79kB)\n",
      "\u001b[K    100% |████████████████████████████████| 81kB 803kB/s ta 0:00:01\n",
      "\u001b[?25hCollecting azure-mgmt-network~=1.7 (from azure-mgmt~=2.0->azure)\n",
      "  Downloading https://files.pythonhosted.org/packages/89/61/178d2fb43cd5c288a3e00e4433994dae4f243fa358ac5c87364a0dd55299/azure_mgmt_network-1.7.1-py2.py3-none-any.whl (2.3MB)\n",
      "\u001b[K    100% |████████████████████████████████| 2.3MB 287kB/s ta 0:00:01\n",
      "\u001b[?25hCollecting azure-mgmt-machinelearningcompute~=0.4.0 (from azure-mgmt~=2.0->azure)\n",
      "  Downloading https://files.pythonhosted.org/packages/b4/9c/f8eb81b307df4465809b182f2fe44c288eeb41c0ab54f91b61ac554998a9/azure_mgmt_machinelearningcompute-0.4.1-py2.py3-none-any.whl\n",
      "Collecting azure-mgmt-billing~=0.1.0 (from azure-mgmt~=2.0->azure)\n",
      "  Downloading https://files.pythonhosted.org/packages/69/9a/dd3e20d2f0fa665e64821697c66ee1a9f6ac9e2ba01b877783a439991e38/azure_mgmt_billing-0.1.0-py2.py3-none-any.whl\n",
      "Collecting azure-mgmt-storage~=1.5 (from azure-mgmt~=2.0->azure)\n",
      "  Downloading https://files.pythonhosted.org/packages/c5/40/d8134d1ee9617fa8bd469e62f916349e1373b94e9f179d12050cfd051e20/azure_mgmt_storage-1.5.0-py2.py3-none-any.whl (189kB)\n",
      "\u001b[K    100% |████████████████████████████████| 194kB 900kB/s ta 0:00:01\n",
      "\u001b[?25hCollecting azure-mgmt-scheduler~=1.1 (from azure-mgmt~=2.0->azure)\n",
      "  Downloading https://files.pythonhosted.org/packages/86/69/a47f41e5b8902878bb65bd8829912139313f4c22c69847cb76c76fd8b729/azure_mgmt_scheduler-1.1.3-py2.py3-none-any.whl (42kB)\n",
      "\u001b[K    100% |████████████████████████████████| 51kB 1.2MB/s ta 0:00:01\n",
      "\u001b[?25hCollecting azure-mgmt-cosmosdb~=0.3.1 (from azure-mgmt~=2.0->azure)\n",
      "  Downloading https://files.pythonhosted.org/packages/2d/de/5314094e86d5d02384531d1ded9a0402def037830ca6de3c7ae62abe66a1/azure_mgmt_cosmosdb-0.3.1-py2.py3-none-any.whl (68kB)\n",
      "\u001b[K    100% |████████████████████████████████| 71kB 812kB/s ta 0:00:01\n",
      "\u001b[?25hCollecting azure-mgmt-datalake-analytics~=0.3.0 (from azure-mgmt~=2.0->azure)\n"
     ]
    },
    {
     "name": "stdout",
     "output_type": "stream",
     "text": [
      "  Downloading https://files.pythonhosted.org/packages/86/cc/0832ea8e91ebabdc3a753e7359070ff8ef1c47f1ab1232e0f4246393c59b/azure_mgmt_datalake_analytics-0.3.0-py2.py3-none-any.whl (169kB)\n",
      "\u001b[K    100% |████████████████████████████████| 174kB 945kB/s ta 0:00:01\n",
      "\u001b[?25hCollecting azure-mgmt-consumption~=2.0 (from azure-mgmt~=2.0->azure)\n",
      "  Downloading https://files.pythonhosted.org/packages/11/f4/2db9557494dfb17ff3edeae5726981143a7baace17df3712b189e343bd8c/azure_mgmt_consumption-2.0.0-py2.py3-none-any.whl (46kB)\n",
      "\u001b[K    100% |████████████████████████████████| 51kB 1.1MB/s ta 0:00:01\n",
      "\u001b[?25hCollecting azure-mgmt-devtestlabs~=2.1 (from azure-mgmt~=2.0->azure)\n",
      "  Downloading https://files.pythonhosted.org/packages/2f/93/a64abaede2fc6a52476af8ceab9cedb368c49e948d9385cbe7cd4ce5ffff/azure_mgmt_devtestlabs-2.2.0-py2.py3-none-any.whl (194kB)\n",
      "\u001b[K    100% |████████████████████████████████| 194kB 971kB/s ta 0:00:01\n",
      "\u001b[?25hCollecting azure-mgmt-containerregistry~=1.0 (from azure-mgmt~=2.0->azure)\n",
      "  Downloading https://files.pythonhosted.org/packages/0b/d4/1599ab5b525fe0be2b7c59350c29f6ff13a4ff1bb35c38da27d89fc27bac/azure_mgmt_containerregistry-1.0.1-py2.py3-none-any.whl (76kB)\n",
      "\u001b[K    100% |████████████████████████████████| 81kB 1.3MB/s ta 0:00:01\n",
      "\u001b[?25hCollecting azure-mgmt-marketplaceordering~=0.1.0 (from azure-mgmt~=2.0->azure)\n",
      "  Downloading https://files.pythonhosted.org/packages/a8/cb/13502fdbaf520d08fb280eb31ecfe5d926b9cf92259c22280bbde96b307d/azure_mgmt_marketplaceordering-0.1.0-py2.py3-none-any.whl\n",
      "Collecting azure-mgmt-media~=0.2.0 (from azure-mgmt~=2.0->azure)\n",
      "  Downloading https://files.pythonhosted.org/packages/09/bb/bddf928931ebd236d72ae386eb989160980debfc1c836fa4e2d7bde4068b/azure_mgmt_media-0.2.0-py2.py3-none-any.whl\n",
      "Collecting azure-mgmt-relay~=0.1.0 (from azure-mgmt~=2.0->azure)\n",
      "  Downloading https://files.pythonhosted.org/packages/00/f7/f5c72bd19829cfaf9f070ec294c901ad7f98835ba9560fdad652afb1071f/azure_mgmt_relay-0.1.0-py2.py3-none-any.whl\n",
      "Collecting azure-mgmt-datafactory~=0.4.0 (from azure-mgmt~=2.0->azure)\n",
      "  Downloading https://files.pythonhosted.org/packages/df/14/453cc03822b8b11c0facf00d56403e401db0fc1029b845e55a3be9f06fd4/azure_mgmt_datafactory-0.4.0-py2.py3-none-any.whl (381kB)\n",
      "\u001b[K    100% |████████████████████████████████| 389kB 782kB/s ta 0:00:01\n",
      "\u001b[?25hCollecting azure-mgmt-cdn~=2.0 (from azure-mgmt~=2.0->azure)\n",
      "  Downloading https://files.pythonhosted.org/packages/0e/63/f6f8cdc07144aae8a4bb3f10fafa1df1d90f3efc21f92a4af123f77c743b/azure_mgmt_cdn-2.0.0-py2.py3-none-any.whl (57kB)\n",
      "\u001b[K    100% |████████████████████████████████| 61kB 1.3MB/s ta 0:00:01\n",
      "\u001b[?25hCollecting azure-mgmt-hanaonazure~=0.1.0 (from azure-mgmt~=2.0->azure)\n",
      "  Downloading https://files.pythonhosted.org/packages/f3/1b/50d300ae02158ab092f923132050b56c148f1b784c7b594d3275d4449769/azure_mgmt_hanaonazure-0.1.1-py2.py3-none-any.whl\n",
      "Collecting azure-mgmt-applicationinsights~=0.1.1 (from azure-mgmt~=2.0->azure)\n",
      "  Downloading https://files.pythonhosted.org/packages/30/61/1d95a5ef3a9119a0d375d8670129375515de20e20409612e9671c99bd19f/azure_mgmt_applicationinsights-0.1.1-py2.py3-none-any.whl (42kB)\n",
      "\u001b[K    100% |████████████████████████████████| 51kB 2.0MB/s ta 0:00:01\n",
      "\u001b[?25hCollecting azure-mgmt-rdbms~=0.1.0 (from azure-mgmt~=2.0->azure)\n",
      "  Downloading https://files.pythonhosted.org/packages/f3/bd/aa9d82c43f1874afe6b5bd655e2af7a8ce83bbd480d0a2d8c8b612307ded/azure_mgmt_rdbms-0.1.0-py2.py3-none-any.whl (79kB)\n",
      "\u001b[K    100% |████████████████████████████████| 81kB 1.5MB/s ta 0:00:011\n",
      "\u001b[?25hCollecting azure-mgmt-notificationhubs~=1.0 (from azure-mgmt~=2.0->azure)\n",
      "  Downloading https://files.pythonhosted.org/packages/29/6f/4b9bcb2ac348448b9cededbda5926c4f822b967a215efc7dcf95638c774a/azure_mgmt_notificationhubs-1.0.0-py2.py3-none-any.whl (43kB)\n",
      "\u001b[K    100% |████████████████████████████████| 51kB 1.6MB/s ta 0:00:01\n",
      "\u001b[?25hCollecting azure-mgmt-containerservice~=3.0 (from azure-mgmt~=2.0->azure)\n",
      "  Downloading https://files.pythonhosted.org/packages/42/fd/3af202dbaf36b717f4e8d0e4e6b53bdb77c1683e4e73bfc003b84aa79f57/azure_mgmt_containerservice-3.0.1-py2.py3-none-any.whl\n",
      "Collecting azure-mgmt-eventhub~=1.2 (from azure-mgmt~=2.0->azure)\n",
      "  Downloading https://files.pythonhosted.org/packages/3b/b4/8ee496fdd8d2968346cbdf45665d59ac7e328b4d48449479b27fd88bf552/azure_mgmt_eventhub-1.2.0-py2.py3-none-any.whl (42kB)\n",
      "\u001b[K    100% |████████████████████████████████| 51kB 1.5MB/s ta 0:00:011\n",
      "\u001b[?25hCollecting azure-mgmt-cognitiveservices~=2.0 (from azure-mgmt~=2.0->azure)\n",
      "  Downloading https://files.pythonhosted.org/packages/c4/52/eb972aa1fed19daf51e11ffbd37584f03c5076dc1b12867bbd28190c9bc3/azure_mgmt_cognitiveservices-2.0.0-py2.py3-none-any.whl\n",
      "Collecting azure-mgmt-batch~=5.0 (from azure-mgmt~=2.0->azure)\n",
      "  Downloading https://files.pythonhosted.org/packages/97/81/a9eb3fd2ab070159105b4cfe9640c24410ac8195286729d62bfdf871de94/azure_mgmt_batch-5.0.1-py2.py3-none-any.whl (87kB)\n",
      "\u001b[K    100% |████████████████████████████████| 92kB 1.9MB/s ta 0:00:011\n",
      "\u001b[?25hCollecting azure-mgmt-keyvault~=0.40.0 (from azure-mgmt~=2.0->azure)\n",
      "  Downloading https://files.pythonhosted.org/packages/45/5a/f3182d7ed82173d9af0bd96d01de4002eca8fddbd3c1feb99d839c5f4657/azure_mgmt_keyvault-0.40.0-py2.py3-none-any.whl\n",
      "Collecting adal>=0.4.2 (from azure-datalake-store~=0.0.18->azure)\n",
      "  Downloading https://files.pythonhosted.org/packages/ee/c2/179ee0cbfa0a1515987be642a8c716b158f1e1329dec5bc36992d514dab3/adal-1.0.0-py2.py3-none-any.whl (51kB)\n",
      "\u001b[K    100% |████████████████████████████████| 61kB 1.4MB/s ta 0:00:01\n",
      "\u001b[?25hRequirement already satisfied: cffi in /anaconda3/lib/python3.6/site-packages (from azure-datalake-store~=0.0.18->azure)\n",
      "Collecting keyring>=12.0.2 (from msrestazure~=0.4.7->azure-keyvault~=0.3.7->azure)\n",
      "  Downloading https://files.pythonhosted.org/packages/47/c0/4dfeeedaa233a12c3e5eb1e079b4dce96bbcbf0d030abc5e9a6b771e5812/keyring-12.2.1-py2.py3-none-any.whl\n",
      "Requirement already satisfied: idna>=2.1 in /anaconda3/lib/python3.6/site-packages (from cryptography->azure-cosmosdb-table~=1.0->azure)\n",
      "Requirement already satisfied: asn1crypto>=0.21.0 in /anaconda3/lib/python3.6/site-packages (from cryptography->azure-cosmosdb-table~=1.0->azure)\n",
      "Requirement already satisfied: six>=1.4.1 in /Users/shankarnatarajan/.local/lib/python3.6/site-packages (from cryptography->azure-cosmosdb-table~=1.0->azure)\n",
      "Requirement already satisfied: chardet<3.1.0,>=3.0.2 in /anaconda3/lib/python3.6/site-packages (from requests->azure-cosmosdb-table~=1.0->azure)\n",
      "Requirement already satisfied: urllib3<1.23,>=1.21.1 in /anaconda3/lib/python3.6/site-packages (from requests->azure-cosmosdb-table~=1.0->azure)\n",
      "Requirement already satisfied: certifi>=2017.4.17 in /anaconda3/lib/python3.6/site-packages (from requests->azure-cosmosdb-table~=1.0->azure)\n",
      "Collecting requests-oauthlib>=0.5.0 (from msrest<2.0.0,>=0.4.26->azure-eventgrid~=0.1.0->azure)\n",
      "  Downloading https://files.pythonhosted.org/packages/77/34/d0957563f20b259a31c12f14e858d79f2e66eb539d3c1b9ab7077ef030ca/requests_oauthlib-0.8.0-py2.py3-none-any.whl\n",
      "Collecting isodate>=0.6.0 (from msrest<2.0.0,>=0.4.26->azure-eventgrid~=0.1.0->azure)\n",
      "  Downloading https://files.pythonhosted.org/packages/9b/9f/b36f7774ff5ea8e428fdcfc4bb332c39ee5b9362ddd3d40d9516a55221b2/isodate-0.6.0-py2.py3-none-any.whl (45kB)\n",
      "\u001b[K    100% |████████████████████████████████| 51kB 1.5MB/s ta 0:00:01\n",
      "\u001b[?25hCollecting azure-mgmt-nspkg>=2.0.0 (from azure-mgmt-servicefabric~=0.1.0->azure-mgmt~=2.0->azure)\n",
      "  Downloading https://files.pythonhosted.org/packages/c9/e3/48b98f929290b0cd0aaa4707ecabb8aaeb267e8ef628af907f1d1c506ec7/azure_mgmt_nspkg-2.0.0-py2.py3-none-any.whl\n",
      "Collecting azure-mgmt-datalake-nspkg>=2.0.0 (from azure-mgmt-datalake-store~=0.3.0->azure-mgmt~=2.0->azure)\n",
      "  Downloading https://files.pythonhosted.org/packages/45/44/ac10e1d1757a46299515568ec7ba62af84f012335cbba957aab32ee08f3d/azure_mgmt_datalake_nspkg-2.0.0-py2.py3-none-any.whl\n",
      "Collecting PyJWT>=1.0.0 (from adal>=0.4.2->azure-datalake-store~=0.0.18->azure)\n",
      "  Downloading https://files.pythonhosted.org/packages/93/d1/3378cc8184a6524dc92993090ee8b4c03847c567e298305d6cf86987e005/PyJWT-1.6.4-py2.py3-none-any.whl\n",
      "Requirement already satisfied: pycparser in /anaconda3/lib/python3.6/site-packages (from cffi->azure-datalake-store~=0.0.18->azure)\n",
      "Requirement already satisfied: entrypoints in /anaconda3/lib/python3.6/site-packages (from keyring>=12.0.2->msrestazure~=0.4.7->azure-keyvault~=0.3.7->azure)\n"
     ]
    },
    {
     "name": "stdout",
     "output_type": "stream",
     "text": [
      "Collecting oauthlib>=0.6.2 (from requests-oauthlib>=0.5.0->msrest<2.0.0,>=0.4.26->azure-eventgrid~=0.1.0->azure)\n",
      "  Downloading https://files.pythonhosted.org/packages/e6/d1/ddd9cfea3e736399b97ded5c2dd62d1322adef4a72d816f1ed1049d6a179/oauthlib-2.1.0-py2.py3-none-any.whl (121kB)\n",
      "\u001b[K    100% |████████████████████████████████| 122kB 1.0MB/s ta 0:00:01\n",
      "\u001b[?25hBuilding wheels for collected packages: futures\n",
      "  Running setup.py bdist_wheel for futures ... \u001b[?25ldone\n",
      "\u001b[?25h  Stored in directory: /Users/shankarnatarajan/Library/Caches/pip/wheels/f3/f9/c7/4fbf1faa6038faf183f6e3ea61f17a5f7eea5ab9a1dd7753fd\n",
      "Successfully built futures\n",
      "Installing collected packages: azure-nspkg, azure-common, keyring, PyJWT, adal, oauthlib, requests-oauthlib, isodate, msrest, msrestazure, azure-keyvault, azure-storage-nspkg, azure-storage-common, azure-cosmosdb-nspkg, futures, azure-cosmosdb-table, azure-storage-file, azure-eventgrid, azure-mgmt-nspkg, azure-mgmt-servicefabric, azure-mgmt-iothub, azure-mgmt-authorization, azure-mgmt-dns, azure-mgmt-reservations, azure-mgmt-search, azure-mgmt-managementpartner, azure-mgmt-iothubprovisioningservices, azure-mgmt-recoveryservicesbackup, azure-mgmt-advisor, azure-mgmt-sql, azure-mgmt-compute, azure-mgmt-servicebus, azure-mgmt-web, azure-mgmt-datalake-nspkg, azure-mgmt-datalake-store, azure-mgmt-trafficmanager, azure-mgmt-eventgrid, azure-mgmt-commerce, azure-mgmt-logic, azure-mgmt-monitor, azure-mgmt-resource, azure-mgmt-containerinstance, azure-mgmt-loganalytics, azure-mgmt-recoveryservices, azure-mgmt-powerbiembedded, azure-mgmt-redis, azure-mgmt-servermanager, azure-mgmt-subscription, azure-mgmt-msi, azure-mgmt-batchai, azure-mgmt-network, azure-mgmt-machinelearningcompute, azure-mgmt-billing, azure-mgmt-storage, azure-mgmt-scheduler, azure-mgmt-cosmosdb, azure-mgmt-datalake-analytics, azure-mgmt-consumption, azure-mgmt-devtestlabs, azure-mgmt-containerregistry, azure-mgmt-marketplaceordering, azure-mgmt-media, azure-mgmt-relay, azure-mgmt-datafactory, azure-mgmt-cdn, azure-mgmt-hanaonazure, azure-mgmt-applicationinsights, azure-mgmt-rdbms, azure-mgmt-notificationhubs, azure-mgmt-containerservice, azure-mgmt-eventhub, azure-mgmt-cognitiveservices, azure-mgmt-batch, azure-mgmt-keyvault, azure-mgmt, azure-servicemanagement-legacy, azure-graphrbac, azure-batch, azure-storage-queue, azure-datalake-store, azure-servicefabric, azure-storage-blob, azure-servicebus, azure\n",
      "Successfully installed PyJWT-1.6.4 adal-1.0.0 azure-3.0.0 azure-batch-4.1.3 azure-common-1.1.11 azure-cosmosdb-nspkg-2.0.2 azure-cosmosdb-table-1.0.3 azure-datalake-store-0.0.19 azure-eventgrid-0.1.0 azure-graphrbac-0.40.0 azure-keyvault-0.3.7 azure-mgmt-2.0.0 azure-mgmt-advisor-1.0.1 azure-mgmt-applicationinsights-0.1.1 azure-mgmt-authorization-0.30.0 azure-mgmt-batch-5.0.1 azure-mgmt-batchai-0.2.0 azure-mgmt-billing-0.1.0 azure-mgmt-cdn-2.0.0 azure-mgmt-cognitiveservices-2.0.0 azure-mgmt-commerce-1.0.1 azure-mgmt-compute-3.0.1 azure-mgmt-consumption-2.0.0 azure-mgmt-containerinstance-0.3.1 azure-mgmt-containerregistry-1.0.1 azure-mgmt-containerservice-3.0.1 azure-mgmt-cosmosdb-0.3.1 azure-mgmt-datafactory-0.4.0 azure-mgmt-datalake-analytics-0.3.0 azure-mgmt-datalake-nspkg-2.0.0 azure-mgmt-datalake-store-0.3.0 azure-mgmt-devtestlabs-2.2.0 azure-mgmt-dns-1.2.0 azure-mgmt-eventgrid-0.4.0 azure-mgmt-eventhub-1.2.0 azure-mgmt-hanaonazure-0.1.1 azure-mgmt-iothub-0.4.0 azure-mgmt-iothubprovisioningservices-0.1.0 azure-mgmt-keyvault-0.40.0 azure-mgmt-loganalytics-0.1.0 azure-mgmt-logic-2.1.0 azure-mgmt-machinelearningcompute-0.4.1 azure-mgmt-managementpartner-0.1.0 azure-mgmt-marketplaceordering-0.1.0 azure-mgmt-media-0.2.0 azure-mgmt-monitor-0.4.0 azure-mgmt-msi-0.1.0 azure-mgmt-network-1.7.1 azure-mgmt-notificationhubs-1.0.0 azure-mgmt-nspkg-2.0.0 azure-mgmt-powerbiembedded-1.0.0 azure-mgmt-rdbms-0.1.0 azure-mgmt-recoveryservices-0.2.0 azure-mgmt-recoveryservicesbackup-0.1.1 azure-mgmt-redis-5.0.0 azure-mgmt-relay-0.1.0 azure-mgmt-reservations-0.1.0 azure-mgmt-resource-1.2.2 azure-mgmt-scheduler-1.1.3 azure-mgmt-search-1.0.0 azure-mgmt-servermanager-1.2.0 azure-mgmt-servicebus-0.4.0 azure-mgmt-servicefabric-0.1.0 azure-mgmt-sql-0.8.6 azure-mgmt-storage-1.5.0 azure-mgmt-subscription-0.1.0 azure-mgmt-trafficmanager-0.40.0 azure-mgmt-web-0.34.1 azure-nspkg-2.0.0 azure-servicebus-0.21.1 azure-servicefabric-6.1.2.9 azure-servicemanagement-legacy-0.20.6 azure-storage-blob-1.1.0 azure-storage-common-1.1.0 azure-storage-file-1.1.0 azure-storage-nspkg-3.0.0 azure-storage-queue-1.1.0 futures-3.1.1 isodate-0.6.0 keyring-12.2.1 msrest-0.4.29 msrestazure-0.4.31 oauthlib-2.1.0 requests-oauthlib-0.8.0\n",
      "\u001b[33mYou are using pip version 9.0.1, however version 10.0.1 is available.\n",
      "You should consider upgrading via the 'pip install --upgrade pip' command.\u001b[0m\n"
     ]
    }
   ],
   "source": [
    "!pip install azure"
   ]
  },
  {
   "cell_type": "code",
   "execution_count": 40,
   "metadata": {},
   "outputs": [
    {
     "name": "stdout",
     "output_type": "stream",
     "text": [
      "Requirement already satisfied: azure-storage-blob in /anaconda3/lib/python3.6/site-packages\n",
      "Requirement already satisfied: azure-common>=1.1.5 in /anaconda3/lib/python3.6/site-packages (from azure-storage-blob)\n",
      "Requirement already satisfied: azure-storage-nspkg>=2.0.0 in /anaconda3/lib/python3.6/site-packages (from azure-storage-blob)\n",
      "Requirement already satisfied: azure-storage-common<1.2.0,>=1.1.0 in /anaconda3/lib/python3.6/site-packages (from azure-storage-blob)\n",
      "Requirement already satisfied: azure-nspkg>=2.0.0 in /anaconda3/lib/python3.6/site-packages (from azure-common>=1.1.5->azure-storage-blob)\n",
      "Requirement already satisfied: requests in /anaconda3/lib/python3.6/site-packages (from azure-storage-common<1.2.0,>=1.1.0->azure-storage-blob)\n",
      "Requirement already satisfied: python-dateutil in /anaconda3/lib/python3.6/site-packages (from azure-storage-common<1.2.0,>=1.1.0->azure-storage-blob)\n",
      "Requirement already satisfied: cryptography in /anaconda3/lib/python3.6/site-packages (from azure-storage-common<1.2.0,>=1.1.0->azure-storage-blob)\n",
      "Requirement already satisfied: chardet<3.1.0,>=3.0.2 in /anaconda3/lib/python3.6/site-packages (from requests->azure-storage-common<1.2.0,>=1.1.0->azure-storage-blob)\n",
      "Requirement already satisfied: idna<2.7,>=2.5 in /anaconda3/lib/python3.6/site-packages (from requests->azure-storage-common<1.2.0,>=1.1.0->azure-storage-blob)\n",
      "Requirement already satisfied: urllib3<1.23,>=1.21.1 in /anaconda3/lib/python3.6/site-packages (from requests->azure-storage-common<1.2.0,>=1.1.0->azure-storage-blob)\n",
      "Requirement already satisfied: certifi>=2017.4.17 in /anaconda3/lib/python3.6/site-packages (from requests->azure-storage-common<1.2.0,>=1.1.0->azure-storage-blob)\n",
      "Requirement already satisfied: six>=1.5 in /Users/shankarnatarajan/.local/lib/python3.6/site-packages (from python-dateutil->azure-storage-common<1.2.0,>=1.1.0->azure-storage-blob)\n",
      "Requirement already satisfied: asn1crypto>=0.21.0 in /anaconda3/lib/python3.6/site-packages (from cryptography->azure-storage-common<1.2.0,>=1.1.0->azure-storage-blob)\n",
      "Requirement already satisfied: cffi>=1.7 in /anaconda3/lib/python3.6/site-packages (from cryptography->azure-storage-common<1.2.0,>=1.1.0->azure-storage-blob)\n",
      "Requirement already satisfied: pycparser in /anaconda3/lib/python3.6/site-packages (from cffi>=1.7->cryptography->azure-storage-common<1.2.0,>=1.1.0->azure-storage-blob)\n",
      "\u001b[33mYou are using pip version 9.0.1, however version 10.0.1 is available.\n",
      "You should consider upgrading via the 'pip install --upgrade pip' command.\u001b[0m\n"
     ]
    }
   ],
   "source": [
    "!pip install azure-storage-blob"
   ]
  },
  {
   "cell_type": "code",
   "execution_count": 41,
   "metadata": {
    "collapsed": true
   },
   "outputs": [],
   "source": [
    "import logging\n",
    "\n",
    "# Basic configuration: configure the root logger, including 'azure.storage'\n",
    "logging.basicConfig(format='%(asctime)s %(name)-20s %(levelname)-5s %(message)s', level=logging.INFO)\n",
    "\n",
    "# More advanced configuration allowing more control\n",
    "logger = logging.getLogger('azure.storage')\n",
    "handler = logging.StreamHandler()\n",
    "formatter = logging.Formatter('%(asctime)s %(name)-20s %(levelname)-5s %(message)s')\n",
    "handler.setFormatter(formatter)\n",
    "logger.addHandler(handler)\n",
    "logger.setLevel(logging.INFO)"
   ]
  },
  {
   "cell_type": "code",
   "execution_count": null,
   "metadata": {
    "collapsed": true
   },
   "outputs": [],
   "source": []
  }
 ],
 "metadata": {
  "kernelspec": {
   "display_name": "Python 3",
   "language": "python",
   "name": "python3"
  },
  "language_info": {
   "codemirror_mode": {
    "name": "ipython",
    "version": 3
   },
   "file_extension": ".py",
   "mimetype": "text/x-python",
   "name": "python",
   "nbconvert_exporter": "python",
   "pygments_lexer": "ipython3",
   "version": "3.6.2"
  }
 },
 "nbformat": 4,
 "nbformat_minor": 2
}
